{
 "cells": [
  {
   "cell_type": "code",
   "execution_count": 1,
   "id": "2b11b6dd",
   "metadata": {
    "ExecuteTime": {
     "end_time": "2024-04-09T06:13:47.621625Z",
     "start_time": "2024-04-09T06:13:46.828260Z"
    }
   },
   "outputs": [],
   "source": [
    "import numpy as np\n",
    "import pandas as pd"
   ]
  },
  {
   "cell_type": "code",
   "execution_count": 2,
   "id": "24b69747",
   "metadata": {
    "ExecuteTime": {
     "end_time": "2024-04-09T06:14:03.536896Z",
     "start_time": "2024-04-09T06:14:03.292541Z"
    }
   },
   "outputs": [],
   "source": [
    "flats = pd.read_csv('flats_cleaned.csv')\n",
    "houses = pd.read_csv('house_cleaned.csv')"
   ]
  },
  {
   "cell_type": "code",
   "execution_count": 3,
   "id": "f14b978e",
   "metadata": {
    "ExecuteTime": {
     "end_time": "2024-04-09T06:14:07.019266Z",
     "start_time": "2024-04-09T06:14:07.004501Z"
    }
   },
   "outputs": [],
   "source": [
    "df = pd.concat([flats,houses],ignore_index=True)"
   ]
  },
  {
   "cell_type": "code",
   "execution_count": 4,
   "id": "6ee61d8f",
   "metadata": {
    "ExecuteTime": {
     "end_time": "2024-04-09T06:14:08.309087Z",
     "start_time": "2024-04-09T06:14:08.278940Z"
    }
   },
   "outputs": [],
   "source": [
    "df = df.sample(df.shape[0],ignore_index=True)"
   ]
  },
  {
   "cell_type": "code",
   "execution_count": 5,
   "id": "4b047d58",
   "metadata": {
    "ExecuteTime": {
     "end_time": "2024-04-09T06:14:14.175939Z",
     "start_time": "2024-04-09T06:14:14.119145Z"
    }
   },
   "outputs": [
    {
     "data": {
      "text/html": [
       "<div>\n",
       "<style scoped>\n",
       "    .dataframe tbody tr th:only-of-type {\n",
       "        vertical-align: middle;\n",
       "    }\n",
       "\n",
       "    .dataframe tbody tr th {\n",
       "        vertical-align: top;\n",
       "    }\n",
       "\n",
       "    .dataframe thead th {\n",
       "        text-align: right;\n",
       "    }\n",
       "</style>\n",
       "<table border=\"1\" class=\"dataframe\">\n",
       "  <thead>\n",
       "    <tr style=\"text-align: right;\">\n",
       "      <th></th>\n",
       "      <th>property_name</th>\n",
       "      <th>property_type</th>\n",
       "      <th>society</th>\n",
       "      <th>price</th>\n",
       "      <th>price_per_sqft</th>\n",
       "      <th>area</th>\n",
       "      <th>areaWithType</th>\n",
       "      <th>bedRoom</th>\n",
       "      <th>bathroom</th>\n",
       "      <th>balcony</th>\n",
       "      <th>additionalRoom</th>\n",
       "      <th>address</th>\n",
       "      <th>floorNum</th>\n",
       "      <th>facing</th>\n",
       "      <th>agePossession</th>\n",
       "      <th>nearbyLocations</th>\n",
       "      <th>description</th>\n",
       "      <th>furnishDetails</th>\n",
       "      <th>features</th>\n",
       "      <th>rating</th>\n",
       "    </tr>\n",
       "  </thead>\n",
       "  <tbody>\n",
       "    <tr>\n",
       "      <th>0</th>\n",
       "      <td>3 BHK Flat in Sector 81 Gurgaon</td>\n",
       "      <td>flat</td>\n",
       "      <td>bestech park view ananda</td>\n",
       "      <td>1.40</td>\n",
       "      <td>7734.0</td>\n",
       "      <td>1810.0</td>\n",
       "      <td>Super Built up area 1810(168.15 sq.m.)Carpet a...</td>\n",
       "      <td>3</td>\n",
       "      <td>3</td>\n",
       "      <td>3+</td>\n",
       "      <td>not available</td>\n",
       "      <td>Sector 81 Gurgaon, Gurgaon, Haryana</td>\n",
       "      <td>6.0</td>\n",
       "      <td>North-West</td>\n",
       "      <td>1 to 5 Year Old</td>\n",
       "      <td>['Metro Station Kankrola sec 87', 'Sapphire 83...</td>\n",
       "      <td>Sir its a 3bhk with 3 toilet flat in bestech p...</td>\n",
       "      <td>NaN</td>\n",
       "      <td>['Security / Fire Alarm', 'Feng Shui / Vaastu ...</td>\n",
       "      <td>['Green Area5 out of 5', 'Construction5 out of...</td>\n",
       "    </tr>\n",
       "    <tr>\n",
       "      <th>1</th>\n",
       "      <td>3 BHK Flat in Sector 108 Gurgaon</td>\n",
       "      <td>flat</td>\n",
       "      <td>sobha city</td>\n",
       "      <td>2.45</td>\n",
       "      <td>14040.0</td>\n",
       "      <td>1745.0</td>\n",
       "      <td>Super Built up area 1745(162.12 sq.m.)Built Up...</td>\n",
       "      <td>3</td>\n",
       "      <td>3</td>\n",
       "      <td>3</td>\n",
       "      <td>not available</td>\n",
       "      <td>Sector 108 Gurgaon, Gurgaon, Haryana</td>\n",
       "      <td>15.0</td>\n",
       "      <td>West</td>\n",
       "      <td>1 to 5 Year Old</td>\n",
       "      <td>['Dwarka Sector 21', 'Dwarka Expressway', 'Vas...</td>\n",
       "      <td>Check out this 3 bhk apartment for sale in sob...</td>\n",
       "      <td>['1 Light', 'No AC', 'No Bed', 'No Chimney', '...</td>\n",
       "      <td>['Feng Shui / Vaastu Compliant', 'Security / F...</td>\n",
       "      <td>['Environment4 out of 5', 'Lifestyle4.5 out of...</td>\n",
       "    </tr>\n",
       "    <tr>\n",
       "      <th>2</th>\n",
       "      <td>2 BHK Flat in Sector 74 Gurgaon</td>\n",
       "      <td>flat</td>\n",
       "      <td>m3m skywalk</td>\n",
       "      <td>1.55</td>\n",
       "      <td>13790.0</td>\n",
       "      <td>1124.0</td>\n",
       "      <td>Super Built up area 1406(130.62 sq.m.)Built Up...</td>\n",
       "      <td>2</td>\n",
       "      <td>2</td>\n",
       "      <td>3+</td>\n",
       "      <td>others</td>\n",
       "      <td>T1-1111, Sector 74 Gurgaon, Gurgaon, Haryana</td>\n",
       "      <td>18.0</td>\n",
       "      <td>South</td>\n",
       "      <td>1 to 5 Year Old</td>\n",
       "      <td>['Omaxe Gurgaon Mall', 'Omaxe Celebration Mall...</td>\n",
       "      <td>This lovely 2 bhk apartment/flat in sector 74 ...</td>\n",
       "      <td>NaN</td>\n",
       "      <td>['Centrally Air Conditioned', 'Security / Fire...</td>\n",
       "      <td>NaN</td>\n",
       "    </tr>\n",
       "    <tr>\n",
       "      <th>3</th>\n",
       "      <td>4 Bedroom House for sale in Sector 31 Gurgaon</td>\n",
       "      <td>house</td>\n",
       "      <td>independent</td>\n",
       "      <td>3.69</td>\n",
       "      <td>23699.0</td>\n",
       "      <td>1557.0</td>\n",
       "      <td>Plot area 173(144.65 sq.m.)</td>\n",
       "      <td>4</td>\n",
       "      <td>4</td>\n",
       "      <td>2</td>\n",
       "      <td>study room,servant room,pooja room</td>\n",
       "      <td>Sector 31 Gurgaon, Gurgaon, Haryana</td>\n",
       "      <td>2.0</td>\n",
       "      <td>East</td>\n",
       "      <td>5 to 10 Year Old</td>\n",
       "      <td>['Icici bank ATM', 'State bank of india ATM', ...</td>\n",
       "      <td>4 bhk must see. It is a value for money deal. ...</td>\n",
       "      <td>['5 Wardrobe', '5 Bed', '1 Water Purifier', '4...</td>\n",
       "      <td>['Private Garden / Terrace', 'High Ceiling Hei...</td>\n",
       "      <td>['Environment5 out of 5', 'Lifestyle5 out of 5...</td>\n",
       "    </tr>\n",
       "    <tr>\n",
       "      <th>4</th>\n",
       "      <td>2 BHK Flat in Sector 90 Gurgaon</td>\n",
       "      <td>flat</td>\n",
       "      <td>shree vardhman flora</td>\n",
       "      <td>0.70</td>\n",
       "      <td>5325.0</td>\n",
       "      <td>1315.0</td>\n",
       "      <td>Super Built up area 1352(125.6 sq.m.)Built Up ...</td>\n",
       "      <td>2</td>\n",
       "      <td>2</td>\n",
       "      <td>3</td>\n",
       "      <td>study room</td>\n",
       "      <td>C2., Sector 90 Gurgaon, Gurgaon, Haryana</td>\n",
       "      <td>9.0</td>\n",
       "      <td>East</td>\n",
       "      <td>0 to 1 Year Old</td>\n",
       "      <td>['IRIS Broadway Mall', 'Dwarka Expressway', 'S...</td>\n",
       "      <td>2bhk +study multistorey apartment for resale a...</td>\n",
       "      <td>NaN</td>\n",
       "      <td>NaN</td>\n",
       "      <td>['Management4 out of 5', 'Green Area5 out of 5...</td>\n",
       "    </tr>\n",
       "  </tbody>\n",
       "</table>\n",
       "</div>"
      ],
      "text/plain": [
       "                                   property_name property_type  \\\n",
       "0                3 BHK Flat in Sector 81 Gurgaon          flat   \n",
       "1               3 BHK Flat in Sector 108 Gurgaon          flat   \n",
       "2                2 BHK Flat in Sector 74 Gurgaon          flat   \n",
       "3  4 Bedroom House for sale in Sector 31 Gurgaon         house   \n",
       "4                2 BHK Flat in Sector 90 Gurgaon          flat   \n",
       "\n",
       "                    society  price  price_per_sqft    area  \\\n",
       "0  bestech park view ananda   1.40          7734.0  1810.0   \n",
       "1                sobha city   2.45         14040.0  1745.0   \n",
       "2               m3m skywalk   1.55         13790.0  1124.0   \n",
       "3               independent   3.69         23699.0  1557.0   \n",
       "4      shree vardhman flora   0.70          5325.0  1315.0   \n",
       "\n",
       "                                        areaWithType  bedRoom  bathroom  \\\n",
       "0  Super Built up area 1810(168.15 sq.m.)Carpet a...        3         3   \n",
       "1  Super Built up area 1745(162.12 sq.m.)Built Up...        3         3   \n",
       "2  Super Built up area 1406(130.62 sq.m.)Built Up...        2         2   \n",
       "3                        Plot area 173(144.65 sq.m.)        4         4   \n",
       "4  Super Built up area 1352(125.6 sq.m.)Built Up ...        2         2   \n",
       "\n",
       "  balcony                      additionalRoom  \\\n",
       "0      3+                       not available   \n",
       "1       3                       not available   \n",
       "2      3+                              others   \n",
       "3       2  study room,servant room,pooja room   \n",
       "4       3                          study room   \n",
       "\n",
       "                                        address  floorNum      facing  \\\n",
       "0           Sector 81 Gurgaon, Gurgaon, Haryana       6.0  North-West   \n",
       "1          Sector 108 Gurgaon, Gurgaon, Haryana      15.0        West   \n",
       "2  T1-1111, Sector 74 Gurgaon, Gurgaon, Haryana      18.0       South   \n",
       "3           Sector 31 Gurgaon, Gurgaon, Haryana       2.0        East   \n",
       "4      C2., Sector 90 Gurgaon, Gurgaon, Haryana       9.0        East   \n",
       "\n",
       "      agePossession                                    nearbyLocations  \\\n",
       "0   1 to 5 Year Old  ['Metro Station Kankrola sec 87', 'Sapphire 83...   \n",
       "1   1 to 5 Year Old  ['Dwarka Sector 21', 'Dwarka Expressway', 'Vas...   \n",
       "2   1 to 5 Year Old  ['Omaxe Gurgaon Mall', 'Omaxe Celebration Mall...   \n",
       "3  5 to 10 Year Old  ['Icici bank ATM', 'State bank of india ATM', ...   \n",
       "4   0 to 1 Year Old  ['IRIS Broadway Mall', 'Dwarka Expressway', 'S...   \n",
       "\n",
       "                                         description  \\\n",
       "0  Sir its a 3bhk with 3 toilet flat in bestech p...   \n",
       "1  Check out this 3 bhk apartment for sale in sob...   \n",
       "2  This lovely 2 bhk apartment/flat in sector 74 ...   \n",
       "3  4 bhk must see. It is a value for money deal. ...   \n",
       "4  2bhk +study multistorey apartment for resale a...   \n",
       "\n",
       "                                      furnishDetails  \\\n",
       "0                                                NaN   \n",
       "1  ['1 Light', 'No AC', 'No Bed', 'No Chimney', '...   \n",
       "2                                                NaN   \n",
       "3  ['5 Wardrobe', '5 Bed', '1 Water Purifier', '4...   \n",
       "4                                                NaN   \n",
       "\n",
       "                                            features  \\\n",
       "0  ['Security / Fire Alarm', 'Feng Shui / Vaastu ...   \n",
       "1  ['Feng Shui / Vaastu Compliant', 'Security / F...   \n",
       "2  ['Centrally Air Conditioned', 'Security / Fire...   \n",
       "3  ['Private Garden / Terrace', 'High Ceiling Hei...   \n",
       "4                                                NaN   \n",
       "\n",
       "                                              rating  \n",
       "0  ['Green Area5 out of 5', 'Construction5 out of...  \n",
       "1  ['Environment4 out of 5', 'Lifestyle4.5 out of...  \n",
       "2                                                NaN  \n",
       "3  ['Environment5 out of 5', 'Lifestyle5 out of 5...  \n",
       "4  ['Management4 out of 5', 'Green Area5 out of 5...  "
      ]
     },
     "execution_count": 5,
     "metadata": {},
     "output_type": "execute_result"
    }
   ],
   "source": [
    "df.head()"
   ]
  },
  {
   "cell_type": "code",
   "execution_count": 12,
   "id": "d810924c",
   "metadata": {},
   "outputs": [],
   "source": [
    "df.to_csv('gurgaon_properties.csv',index=False)"
   ]
  },
  {
   "cell_type": "code",
   "execution_count": null,
   "id": "56be443e",
   "metadata": {},
   "outputs": [],
   "source": []
  }
 ],
 "metadata": {
  "kernelspec": {
   "display_name": "Python 3 (ipykernel)",
   "language": "python",
   "name": "python3"
  },
  "language_info": {
   "codemirror_mode": {
    "name": "ipython",
    "version": 3
   },
   "file_extension": ".py",
   "mimetype": "text/x-python",
   "name": "python",
   "nbconvert_exporter": "python",
   "pygments_lexer": "ipython3",
   "version": "3.11.5"
  },
  "varInspector": {
   "cols": {
    "lenName": 16,
    "lenType": 16,
    "lenVar": 40
   },
   "kernels_config": {
    "python": {
     "delete_cmd_postfix": "",
     "delete_cmd_prefix": "del ",
     "library": "var_list.py",
     "varRefreshCmd": "print(var_dic_list())"
    },
    "r": {
     "delete_cmd_postfix": ") ",
     "delete_cmd_prefix": "rm(",
     "library": "var_list.r",
     "varRefreshCmd": "cat(var_dic_list()) "
    }
   },
   "types_to_exclude": [
    "module",
    "function",
    "builtin_function_or_method",
    "instance",
    "_Feature"
   ],
   "window_display": false
  }
 },
 "nbformat": 4,
 "nbformat_minor": 5
}
