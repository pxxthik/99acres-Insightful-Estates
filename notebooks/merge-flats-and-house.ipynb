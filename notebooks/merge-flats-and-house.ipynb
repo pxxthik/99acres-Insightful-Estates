{
 "cells": [
  {
   "cell_type": "code",
   "execution_count": 1,
   "id": "2b11b6dd",
   "metadata": {
    "ExecuteTime": {
     "end_time": "2024-04-09T14:04:21.111275Z",
     "start_time": "2024-04-09T14:04:20.447736Z"
    }
   },
   "outputs": [],
   "source": [
    "import numpy as np\n",
    "import pandas as pd"
   ]
  },
  {
   "cell_type": "code",
   "execution_count": 2,
   "id": "24b69747",
   "metadata": {
    "ExecuteTime": {
     "end_time": "2024-04-09T14:04:21.279775Z",
     "start_time": "2024-04-09T14:04:21.113283Z"
    }
   },
   "outputs": [],
   "source": [
    "flats = pd.read_csv('flats_cleaned.csv')\n",
    "houses = pd.read_csv('house_cleaned.csv')"
   ]
  },
  {
   "cell_type": "code",
   "execution_count": 3,
   "id": "f14b978e",
   "metadata": {
    "ExecuteTime": {
     "end_time": "2024-04-09T14:04:21.296946Z",
     "start_time": "2024-04-09T14:04:21.283018Z"
    }
   },
   "outputs": [],
   "source": [
    "df = pd.concat([flats,houses],ignore_index=True)"
   ]
  },
  {
   "cell_type": "code",
   "execution_count": 4,
   "id": "6ee61d8f",
   "metadata": {
    "ExecuteTime": {
     "end_time": "2024-04-09T14:04:21.315867Z",
     "start_time": "2024-04-09T14:04:21.301940Z"
    }
   },
   "outputs": [],
   "source": [
    "df = df.sample(df.shape[0],ignore_index=True)"
   ]
  },
  {
   "cell_type": "code",
   "execution_count": 5,
   "id": "4b047d58",
   "metadata": {
    "ExecuteTime": {
     "end_time": "2024-04-09T14:04:21.374417Z",
     "start_time": "2024-04-09T14:04:21.322991Z"
    }
   },
   "outputs": [
    {
     "data": {
      "text/html": [
       "<div>\n",
       "<style scoped>\n",
       "    .dataframe tbody tr th:only-of-type {\n",
       "        vertical-align: middle;\n",
       "    }\n",
       "\n",
       "    .dataframe tbody tr th {\n",
       "        vertical-align: top;\n",
       "    }\n",
       "\n",
       "    .dataframe thead th {\n",
       "        text-align: right;\n",
       "    }\n",
       "</style>\n",
       "<table border=\"1\" class=\"dataframe\">\n",
       "  <thead>\n",
       "    <tr style=\"text-align: right;\">\n",
       "      <th></th>\n",
       "      <th>property_name</th>\n",
       "      <th>property_type</th>\n",
       "      <th>society</th>\n",
       "      <th>price</th>\n",
       "      <th>price_per_sqft</th>\n",
       "      <th>area</th>\n",
       "      <th>areaWithType</th>\n",
       "      <th>bedRoom</th>\n",
       "      <th>bathroom</th>\n",
       "      <th>balcony</th>\n",
       "      <th>additionalRoom</th>\n",
       "      <th>address</th>\n",
       "      <th>floorNum</th>\n",
       "      <th>facing</th>\n",
       "      <th>agePossession</th>\n",
       "      <th>nearbyLocations</th>\n",
       "      <th>description</th>\n",
       "      <th>furnishDetails</th>\n",
       "      <th>features</th>\n",
       "      <th>rating</th>\n",
       "    </tr>\n",
       "  </thead>\n",
       "  <tbody>\n",
       "    <tr>\n",
       "      <th>0</th>\n",
       "      <td>2 BHK Flat in Sector 108 Gurgaon</td>\n",
       "      <td>flat</td>\n",
       "      <td>raheja vedaanta</td>\n",
       "      <td>0.70</td>\n",
       "      <td>4651.0</td>\n",
       "      <td>1505.0</td>\n",
       "      <td>Super Built up area 1505(139.82 sq.m.)</td>\n",
       "      <td>2</td>\n",
       "      <td>2</td>\n",
       "      <td>2</td>\n",
       "      <td>not available</td>\n",
       "      <td>Sector 108 Gurgaon, Gurgaon, Haryana</td>\n",
       "      <td>12.0</td>\n",
       "      <td>South</td>\n",
       "      <td>5 to 10 Year Old</td>\n",
       "      <td>NaN</td>\n",
       "      <td>Enjoy the sun through the south facing windows...</td>\n",
       "      <td>['1 Wardrobe', '1 Fan', '1 Exhaust Fan', '1 Li...</td>\n",
       "      <td>['Power Back-up', 'Feng Shui / Vaastu Complian...</td>\n",
       "      <td>['Green Area4 out of 5', 'Construction4 out of...</td>\n",
       "    </tr>\n",
       "    <tr>\n",
       "      <th>1</th>\n",
       "      <td>3 BHK Flat in Sector 81 Gurgaon</td>\n",
       "      <td>flat</td>\n",
       "      <td>dlf the ultima</td>\n",
       "      <td>2.35</td>\n",
       "      <td>11233.0</td>\n",
       "      <td>2092.0</td>\n",
       "      <td>Super Built up area 2092(194.35 sq.m.)Carpet a...</td>\n",
       "      <td>3</td>\n",
       "      <td>4</td>\n",
       "      <td>3+</td>\n",
       "      <td>servant room</td>\n",
       "      <td>125, Sector 81 Gurgaon, Gurgaon, Haryana</td>\n",
       "      <td>18.0</td>\n",
       "      <td>North</td>\n",
       "      <td>1 to 5 Year Old</td>\n",
       "      <td>['Huda Metro Station (Gurugram)', 'Vatika Town...</td>\n",
       "      <td>Dlf the ultima is one of gurgaon's most sought...</td>\n",
       "      <td>NaN</td>\n",
       "      <td>['Power Back-up', 'Intercom Facility', 'Lift(s...</td>\n",
       "      <td>['Green Area5 out of 5', 'Construction4 out of...</td>\n",
       "    </tr>\n",
       "    <tr>\n",
       "      <th>2</th>\n",
       "      <td>2 BHK Flat in Sector 107 Gurgaon</td>\n",
       "      <td>flat</td>\n",
       "      <td>signature global solera</td>\n",
       "      <td>0.40</td>\n",
       "      <td>6644.0</td>\n",
       "      <td>602.0</td>\n",
       "      <td>Super Built up area 602(55.93 sq.m.)Carpet are...</td>\n",
       "      <td>2</td>\n",
       "      <td>2</td>\n",
       "      <td>1</td>\n",
       "      <td>not available</td>\n",
       "      <td>Sector 107, Sector 107 Gurgaon, Gurgaon, Haryana</td>\n",
       "      <td>7.0</td>\n",
       "      <td>NaN</td>\n",
       "      <td>1 to 5 Year Old</td>\n",
       "      <td>['Gurgaon Dreamz Mall', 'Dwarka Expressway', \"...</td>\n",
       "      <td>Best in class property available at sector 107...</td>\n",
       "      <td>['3 Fan', '1 Exhaust Fan', '5 Light', '1 Modul...</td>\n",
       "      <td>NaN</td>\n",
       "      <td>['Green Area4.5 out of 5', 'Construction4.5 ou...</td>\n",
       "    </tr>\n",
       "    <tr>\n",
       "      <th>3</th>\n",
       "      <td>3 BHK Flat in Sector 90 Gurgaon</td>\n",
       "      <td>flat</td>\n",
       "      <td>dlf regal gardens</td>\n",
       "      <td>1.29</td>\n",
       "      <td>7103.0</td>\n",
       "      <td>1816.0</td>\n",
       "      <td>Super Built up area 1818(168.9 sq.m.)Built Up ...</td>\n",
       "      <td>3</td>\n",
       "      <td>3</td>\n",
       "      <td>3+</td>\n",
       "      <td>servant room</td>\n",
       "      <td>235, Sector 90 Gurgaon, Gurgaon, Haryana</td>\n",
       "      <td>12.0</td>\n",
       "      <td>South-East</td>\n",
       "      <td>1 to 5 Year Old</td>\n",
       "      <td>['SS Omnia, Sector 86', 'Numberdar market, IMT...</td>\n",
       "      <td>Dlf regal gardens is one of the most popular d...</td>\n",
       "      <td>['1 Exhaust Fan', '3 Geyser', '7 Light', '5 AC...</td>\n",
       "      <td>['Water purifier', 'Centrally Air Conditioned'...</td>\n",
       "      <td>['Green Area5 out of 5', 'Construction4.5 out ...</td>\n",
       "    </tr>\n",
       "    <tr>\n",
       "      <th>4</th>\n",
       "      <td>2 BHK Flat in Sector 85 Gurgaon</td>\n",
       "      <td>flat</td>\n",
       "      <td>ss the leaf</td>\n",
       "      <td>1.11</td>\n",
       "      <td>6851.0</td>\n",
       "      <td>1620.0</td>\n",
       "      <td>Super Built up area 1640(152.36 sq.m.)Built Up...</td>\n",
       "      <td>2</td>\n",
       "      <td>2</td>\n",
       "      <td>3</td>\n",
       "      <td>store room</td>\n",
       "      <td>Bbbbggggggg, Sector 85 Gurgaon, Gurgaon, Haryana</td>\n",
       "      <td>8.0</td>\n",
       "      <td>North</td>\n",
       "      <td>1 to 5 Year Old</td>\n",
       "      <td>['Sapphire 83 Mall', 'Dwarka Expressway', 'Cen...</td>\n",
       "      <td>This 2 bhk apartment is available for sale in ...</td>\n",
       "      <td>['4 Fan', '1 Exhaust Fan', '6 Light', '3 AC', ...</td>\n",
       "      <td>['Centrally Air Conditioned', 'Water purifier'...</td>\n",
       "      <td>['Green Area4.5 out of 5', 'Construction4.5 ou...</td>\n",
       "    </tr>\n",
       "  </tbody>\n",
       "</table>\n",
       "</div>"
      ],
      "text/plain": [
       "                      property_name property_type                  society  \\\n",
       "0  2 BHK Flat in Sector 108 Gurgaon          flat          raheja vedaanta   \n",
       "1   3 BHK Flat in Sector 81 Gurgaon          flat           dlf the ultima   \n",
       "2  2 BHK Flat in Sector 107 Gurgaon          flat  signature global solera   \n",
       "3   3 BHK Flat in Sector 90 Gurgaon          flat        dlf regal gardens   \n",
       "4   2 BHK Flat in Sector 85 Gurgaon          flat              ss the leaf   \n",
       "\n",
       "   price  price_per_sqft    area  \\\n",
       "0   0.70          4651.0  1505.0   \n",
       "1   2.35         11233.0  2092.0   \n",
       "2   0.40          6644.0   602.0   \n",
       "3   1.29          7103.0  1816.0   \n",
       "4   1.11          6851.0  1620.0   \n",
       "\n",
       "                                        areaWithType  bedRoom  bathroom  \\\n",
       "0             Super Built up area 1505(139.82 sq.m.)        2         2   \n",
       "1  Super Built up area 2092(194.35 sq.m.)Carpet a...        3         4   \n",
       "2  Super Built up area 602(55.93 sq.m.)Carpet are...        2         2   \n",
       "3  Super Built up area 1818(168.9 sq.m.)Built Up ...        3         3   \n",
       "4  Super Built up area 1640(152.36 sq.m.)Built Up...        2         2   \n",
       "\n",
       "  balcony additionalRoom                                           address  \\\n",
       "0       2  not available              Sector 108 Gurgaon, Gurgaon, Haryana   \n",
       "1      3+   servant room          125, Sector 81 Gurgaon, Gurgaon, Haryana   \n",
       "2       1  not available  Sector 107, Sector 107 Gurgaon, Gurgaon, Haryana   \n",
       "3      3+   servant room          235, Sector 90 Gurgaon, Gurgaon, Haryana   \n",
       "4       3     store room  Bbbbggggggg, Sector 85 Gurgaon, Gurgaon, Haryana   \n",
       "\n",
       "   floorNum      facing     agePossession  \\\n",
       "0      12.0       South  5 to 10 Year Old   \n",
       "1      18.0       North   1 to 5 Year Old   \n",
       "2       7.0         NaN   1 to 5 Year Old   \n",
       "3      12.0  South-East   1 to 5 Year Old   \n",
       "4       8.0       North   1 to 5 Year Old   \n",
       "\n",
       "                                     nearbyLocations  \\\n",
       "0                                                NaN   \n",
       "1  ['Huda Metro Station (Gurugram)', 'Vatika Town...   \n",
       "2  ['Gurgaon Dreamz Mall', 'Dwarka Expressway', \"...   \n",
       "3  ['SS Omnia, Sector 86', 'Numberdar market, IMT...   \n",
       "4  ['Sapphire 83 Mall', 'Dwarka Expressway', 'Cen...   \n",
       "\n",
       "                                         description  \\\n",
       "0  Enjoy the sun through the south facing windows...   \n",
       "1  Dlf the ultima is one of gurgaon's most sought...   \n",
       "2  Best in class property available at sector 107...   \n",
       "3  Dlf regal gardens is one of the most popular d...   \n",
       "4  This 2 bhk apartment is available for sale in ...   \n",
       "\n",
       "                                      furnishDetails  \\\n",
       "0  ['1 Wardrobe', '1 Fan', '1 Exhaust Fan', '1 Li...   \n",
       "1                                                NaN   \n",
       "2  ['3 Fan', '1 Exhaust Fan', '5 Light', '1 Modul...   \n",
       "3  ['1 Exhaust Fan', '3 Geyser', '7 Light', '5 AC...   \n",
       "4  ['4 Fan', '1 Exhaust Fan', '6 Light', '3 AC', ...   \n",
       "\n",
       "                                            features  \\\n",
       "0  ['Power Back-up', 'Feng Shui / Vaastu Complian...   \n",
       "1  ['Power Back-up', 'Intercom Facility', 'Lift(s...   \n",
       "2                                                NaN   \n",
       "3  ['Water purifier', 'Centrally Air Conditioned'...   \n",
       "4  ['Centrally Air Conditioned', 'Water purifier'...   \n",
       "\n",
       "                                              rating  \n",
       "0  ['Green Area4 out of 5', 'Construction4 out of...  \n",
       "1  ['Green Area5 out of 5', 'Construction4 out of...  \n",
       "2  ['Green Area4.5 out of 5', 'Construction4.5 ou...  \n",
       "3  ['Green Area5 out of 5', 'Construction4.5 out ...  \n",
       "4  ['Green Area4.5 out of 5', 'Construction4.5 ou...  "
      ]
     },
     "execution_count": 5,
     "metadata": {},
     "output_type": "execute_result"
    }
   ],
   "source": [
    "df.head()"
   ]
  },
  {
   "cell_type": "code",
   "execution_count": 6,
   "id": "d810924c",
   "metadata": {
    "ExecuteTime": {
     "end_time": "2024-04-09T14:04:21.383845Z",
     "start_time": "2024-04-09T14:04:21.377418Z"
    }
   },
   "outputs": [],
   "source": [
    "# df.to_csv('gurgaon_properties.csv',index=False)"
   ]
  },
  {
   "cell_type": "code",
   "execution_count": null,
   "id": "56be443e",
   "metadata": {},
   "outputs": [],
   "source": []
  }
 ],
 "metadata": {
  "kernelspec": {
   "display_name": "Python 3 (ipykernel)",
   "language": "python",
   "name": "python3"
  },
  "language_info": {
   "codemirror_mode": {
    "name": "ipython",
    "version": 3
   },
   "file_extension": ".py",
   "mimetype": "text/x-python",
   "name": "python",
   "nbconvert_exporter": "python",
   "pygments_lexer": "ipython3",
   "version": "3.11.5"
  },
  "varInspector": {
   "cols": {
    "lenName": 16,
    "lenType": 16,
    "lenVar": 40
   },
   "kernels_config": {
    "python": {
     "delete_cmd_postfix": "",
     "delete_cmd_prefix": "del ",
     "library": "var_list.py",
     "varRefreshCmd": "print(var_dic_list())"
    },
    "r": {
     "delete_cmd_postfix": ") ",
     "delete_cmd_prefix": "rm(",
     "library": "var_list.r",
     "varRefreshCmd": "cat(var_dic_list()) "
    }
   },
   "types_to_exclude": [
    "module",
    "function",
    "builtin_function_or_method",
    "instance",
    "_Feature"
   ],
   "window_display": false
  }
 },
 "nbformat": 4,
 "nbformat_minor": 5
}
