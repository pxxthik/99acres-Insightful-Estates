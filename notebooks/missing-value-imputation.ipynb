{
 "cells": [
  {
   "cell_type": "code",
   "execution_count": 1,
   "id": "2e6ec740",
   "metadata": {
    "ExecuteTime": {
     "end_time": "2024-04-09T13:23:23.964738Z",
     "start_time": "2024-04-09T13:23:21.528610Z"
    }
   },
   "outputs": [],
   "source": [
    "import numpy as np\n",
    "import pandas as pd\n",
    "import matplotlib.pyplot as plt\n",
    "import seaborn as sns"
   ]
  },
  {
   "cell_type": "code",
   "execution_count": 2,
   "id": "4406b65b",
   "metadata": {
    "ExecuteTime": {
     "end_time": "2024-04-09T13:23:25.837670Z",
     "start_time": "2024-04-09T13:23:25.831662Z"
    }
   },
   "outputs": [],
   "source": [
    "pd.set_option('display.max_columns', None)"
   ]
  },
  {
   "cell_type": "code",
   "execution_count": 3,
   "id": "a660f2f5",
   "metadata": {
    "ExecuteTime": {
     "end_time": "2024-04-09T13:23:29.428703Z",
     "start_time": "2024-04-09T13:23:29.341129Z"
    }
   },
   "outputs": [],
   "source": [
    "df = pd.read_csv('gurgaon_properties_outlier_treated.csv')"
   ]
  },
  {
   "cell_type": "code",
   "execution_count": 4,
   "id": "55998ca5",
   "metadata": {
    "ExecuteTime": {
     "end_time": "2024-04-09T13:23:34.470729Z",
     "start_time": "2024-04-09T13:23:34.382017Z"
    }
   },
   "outputs": [
    {
     "data": {
      "text/html": [
       "<div>\n",
       "<style scoped>\n",
       "    .dataframe tbody tr th:only-of-type {\n",
       "        vertical-align: middle;\n",
       "    }\n",
       "\n",
       "    .dataframe tbody tr th {\n",
       "        vertical-align: top;\n",
       "    }\n",
       "\n",
       "    .dataframe thead th {\n",
       "        text-align: right;\n",
       "    }\n",
       "</style>\n",
       "<table border=\"1\" class=\"dataframe\">\n",
       "  <thead>\n",
       "    <tr style=\"text-align: right;\">\n",
       "      <th></th>\n",
       "      <th>property_type</th>\n",
       "      <th>society</th>\n",
       "      <th>sector</th>\n",
       "      <th>price</th>\n",
       "      <th>price_per_sqft</th>\n",
       "      <th>area</th>\n",
       "      <th>areaWithType</th>\n",
       "      <th>bedRoom</th>\n",
       "      <th>bathroom</th>\n",
       "      <th>balcony</th>\n",
       "      <th>floorNum</th>\n",
       "      <th>facing</th>\n",
       "      <th>agePossession</th>\n",
       "      <th>super_built_up_area</th>\n",
       "      <th>built_up_area</th>\n",
       "      <th>carpet_area</th>\n",
       "      <th>study room</th>\n",
       "      <th>servant room</th>\n",
       "      <th>store room</th>\n",
       "      <th>pooja room</th>\n",
       "      <th>others</th>\n",
       "      <th>furnishing_type</th>\n",
       "      <th>luxury_score</th>\n",
       "      <th>area_room_ratio</th>\n",
       "    </tr>\n",
       "  </thead>\n",
       "  <tbody>\n",
       "    <tr>\n",
       "      <th>0</th>\n",
       "      <td>flat</td>\n",
       "      <td>signature global park 4</td>\n",
       "      <td>sector 36</td>\n",
       "      <td>0.82</td>\n",
       "      <td>7586.0</td>\n",
       "      <td>1081.0</td>\n",
       "      <td>Super Built up area 1081(100.43 sq.m.)Carpet a...</td>\n",
       "      <td>3.0</td>\n",
       "      <td>2.0</td>\n",
       "      <td>2</td>\n",
       "      <td>2.0</td>\n",
       "      <td>NaN</td>\n",
       "      <td>New Property</td>\n",
       "      <td>1081.0</td>\n",
       "      <td>NaN</td>\n",
       "      <td>650.0</td>\n",
       "      <td>0.0</td>\n",
       "      <td>0.0</td>\n",
       "      <td>0.0</td>\n",
       "      <td>0.0</td>\n",
       "      <td>0.0</td>\n",
       "      <td>0.0</td>\n",
       "      <td>8.0</td>\n",
       "      <td>360.333333</td>\n",
       "    </tr>\n",
       "    <tr>\n",
       "      <th>1</th>\n",
       "      <td>flat</td>\n",
       "      <td>smart world gems</td>\n",
       "      <td>sector 89</td>\n",
       "      <td>0.95</td>\n",
       "      <td>8597.0</td>\n",
       "      <td>1105.0</td>\n",
       "      <td>Carpet area: 1103 (102.47 sq.m.)</td>\n",
       "      <td>2.0</td>\n",
       "      <td>2.0</td>\n",
       "      <td>2</td>\n",
       "      <td>4.0</td>\n",
       "      <td>NaN</td>\n",
       "      <td>New Property</td>\n",
       "      <td>NaN</td>\n",
       "      <td>NaN</td>\n",
       "      <td>1103.0</td>\n",
       "      <td>1.0</td>\n",
       "      <td>1.0</td>\n",
       "      <td>0.0</td>\n",
       "      <td>0.0</td>\n",
       "      <td>0.0</td>\n",
       "      <td>0.0</td>\n",
       "      <td>38.0</td>\n",
       "      <td>552.500000</td>\n",
       "    </tr>\n",
       "    <tr>\n",
       "      <th>2</th>\n",
       "      <td>flat</td>\n",
       "      <td>breez global hill view</td>\n",
       "      <td>sohna road</td>\n",
       "      <td>0.32</td>\n",
       "      <td>5470.0</td>\n",
       "      <td>585.0</td>\n",
       "      <td>Built Up area: 1000 (92.9 sq.m.)Carpet area: 5...</td>\n",
       "      <td>2.0</td>\n",
       "      <td>2.0</td>\n",
       "      <td>1</td>\n",
       "      <td>17.0</td>\n",
       "      <td>NaN</td>\n",
       "      <td>New Property</td>\n",
       "      <td>NaN</td>\n",
       "      <td>1000.0</td>\n",
       "      <td>585.0</td>\n",
       "      <td>0.0</td>\n",
       "      <td>0.0</td>\n",
       "      <td>0.0</td>\n",
       "      <td>0.0</td>\n",
       "      <td>0.0</td>\n",
       "      <td>0.0</td>\n",
       "      <td>49.0</td>\n",
       "      <td>292.500000</td>\n",
       "    </tr>\n",
       "    <tr>\n",
       "      <th>3</th>\n",
       "      <td>flat</td>\n",
       "      <td>bestech park view sanskruti</td>\n",
       "      <td>sector 92</td>\n",
       "      <td>1.60</td>\n",
       "      <td>8020.0</td>\n",
       "      <td>1995.0</td>\n",
       "      <td>Super Built up area 1995(185.34 sq.m.)Built Up...</td>\n",
       "      <td>3.0</td>\n",
       "      <td>4.0</td>\n",
       "      <td>3+</td>\n",
       "      <td>10.0</td>\n",
       "      <td>North-West</td>\n",
       "      <td>Relatively New</td>\n",
       "      <td>1995.0</td>\n",
       "      <td>1615.0</td>\n",
       "      <td>1476.0</td>\n",
       "      <td>0.0</td>\n",
       "      <td>1.0</td>\n",
       "      <td>0.0</td>\n",
       "      <td>0.0</td>\n",
       "      <td>1.0</td>\n",
       "      <td>1.0</td>\n",
       "      <td>174.0</td>\n",
       "      <td>665.000000</td>\n",
       "    </tr>\n",
       "    <tr>\n",
       "      <th>4</th>\n",
       "      <td>flat</td>\n",
       "      <td>suncity avenue</td>\n",
       "      <td>sector 102</td>\n",
       "      <td>0.48</td>\n",
       "      <td>9023.0</td>\n",
       "      <td>532.0</td>\n",
       "      <td>Super Built up area 632(58.71 sq.m.)Carpet are...</td>\n",
       "      <td>2.0</td>\n",
       "      <td>2.0</td>\n",
       "      <td>1</td>\n",
       "      <td>5.0</td>\n",
       "      <td>North-East</td>\n",
       "      <td>Relatively New</td>\n",
       "      <td>632.0</td>\n",
       "      <td>NaN</td>\n",
       "      <td>532.0</td>\n",
       "      <td>0.0</td>\n",
       "      <td>0.0</td>\n",
       "      <td>1.0</td>\n",
       "      <td>0.0</td>\n",
       "      <td>0.0</td>\n",
       "      <td>0.0</td>\n",
       "      <td>159.0</td>\n",
       "      <td>266.000000</td>\n",
       "    </tr>\n",
       "  </tbody>\n",
       "</table>\n",
       "</div>"
      ],
      "text/plain": [
       "  property_type                      society      sector  price  \\\n",
       "0          flat      signature global park 4   sector 36   0.82   \n",
       "1          flat             smart world gems   sector 89   0.95   \n",
       "2          flat       breez global hill view  sohna road   0.32   \n",
       "3          flat  bestech park view sanskruti   sector 92   1.60   \n",
       "4          flat               suncity avenue  sector 102   0.48   \n",
       "\n",
       "   price_per_sqft    area                                       areaWithType  \\\n",
       "0          7586.0  1081.0  Super Built up area 1081(100.43 sq.m.)Carpet a...   \n",
       "1          8597.0  1105.0                   Carpet area: 1103 (102.47 sq.m.)   \n",
       "2          5470.0   585.0  Built Up area: 1000 (92.9 sq.m.)Carpet area: 5...   \n",
       "3          8020.0  1995.0  Super Built up area 1995(185.34 sq.m.)Built Up...   \n",
       "4          9023.0   532.0  Super Built up area 632(58.71 sq.m.)Carpet are...   \n",
       "\n",
       "   bedRoom  bathroom balcony  floorNum      facing   agePossession  \\\n",
       "0      3.0       2.0       2       2.0         NaN    New Property   \n",
       "1      2.0       2.0       2       4.0         NaN    New Property   \n",
       "2      2.0       2.0       1      17.0         NaN    New Property   \n",
       "3      3.0       4.0      3+      10.0  North-West  Relatively New   \n",
       "4      2.0       2.0       1       5.0  North-East  Relatively New   \n",
       "\n",
       "   super_built_up_area  built_up_area  carpet_area  study room  servant room  \\\n",
       "0               1081.0            NaN        650.0         0.0           0.0   \n",
       "1                  NaN            NaN       1103.0         1.0           1.0   \n",
       "2                  NaN         1000.0        585.0         0.0           0.0   \n",
       "3               1995.0         1615.0       1476.0         0.0           1.0   \n",
       "4                632.0            NaN        532.0         0.0           0.0   \n",
       "\n",
       "   store room  pooja room  others  furnishing_type  luxury_score  \\\n",
       "0         0.0         0.0     0.0              0.0           8.0   \n",
       "1         0.0         0.0     0.0              0.0          38.0   \n",
       "2         0.0         0.0     0.0              0.0          49.0   \n",
       "3         0.0         0.0     1.0              1.0         174.0   \n",
       "4         1.0         0.0     0.0              0.0         159.0   \n",
       "\n",
       "   area_room_ratio  \n",
       "0       360.333333  \n",
       "1       552.500000  \n",
       "2       292.500000  \n",
       "3       665.000000  \n",
       "4       266.000000  "
      ]
     },
     "execution_count": 4,
     "metadata": {},
     "output_type": "execute_result"
    }
   ],
   "source": [
    "df.head()"
   ]
  },
  {
   "cell_type": "code",
   "execution_count": 5,
   "id": "2e44b5a1",
   "metadata": {
    "ExecuteTime": {
     "end_time": "2024-04-09T13:23:50.755308Z",
     "start_time": "2024-04-09T13:23:50.740457Z"
    }
   },
   "outputs": [
    {
     "data": {
      "text/plain": [
       "property_type             0\n",
       "society                   1\n",
       "sector                    0\n",
       "price                     0\n",
       "price_per_sqft            0\n",
       "area                      0\n",
       "areaWithType              0\n",
       "bedRoom                   0\n",
       "bathroom                  0\n",
       "balcony                   0\n",
       "floorNum                 17\n",
       "facing                 1011\n",
       "agePossession             0\n",
       "super_built_up_area    1680\n",
       "built_up_area          1968\n",
       "carpet_area            1715\n",
       "study room                0\n",
       "servant room              0\n",
       "store room                0\n",
       "pooja room                0\n",
       "others                    0\n",
       "furnishing_type           0\n",
       "luxury_score              0\n",
       "area_room_ratio           0\n",
       "dtype: int64"
      ]
     },
     "execution_count": 5,
     "metadata": {},
     "output_type": "execute_result"
    }
   ],
   "source": [
    "df.isnull().sum()"
   ]
  },
  {
   "cell_type": "markdown",
   "id": "3d90d1bf",
   "metadata": {},
   "source": [
    "### Built up area"
   ]
  },
  {
   "cell_type": "code",
   "execution_count": 7,
   "id": "6f739c0b",
   "metadata": {
    "ExecuteTime": {
     "end_time": "2024-04-09T13:24:05.766334Z",
     "start_time": "2024-04-09T13:24:05.434025Z"
    }
   },
   "outputs": [
    {
     "data": {
      "text/plain": [
       "<Axes: xlabel='built_up_area', ylabel='super_built_up_area'>"
      ]
     },
     "execution_count": 7,
     "metadata": {},
     "output_type": "execute_result"
    },
    {
     "data": {
      "image/png": "[encoded data removed]",
      "text/plain": [
       "<Figure size 640x480 with 1 Axes>"
      ]
     },
     "metadata": {},
     "output_type": "display_data"
    }
   ],
   "source": [
    "sns.scatterplot(x=df['built_up_area'],y=df['super_built_up_area'])"
   ]
  },
  {
   "cell_type": "code",
   "execution_count": 8,
   "id": "f60cb391",
   "metadata": {
    "ExecuteTime": {
     "end_time": "2024-04-09T13:24:15.013941Z",
     "start_time": "2024-04-09T13:24:14.568160Z"
    }
   },
   "outputs": [
    {
     "data": {
      "text/plain": [
       "<Axes: xlabel='built_up_area', ylabel='carpet_area'>"
      ]
     },
     "execution_count": 8,
     "metadata": {},
     "output_type": "execute_result"
    },
    {
     "data": {
      "image/png": "[encoded data removed]",
      "text/plain": [
       "<Figure size 640x480 with 1 Axes>"
      ]
     },
     "metadata": {},
     "output_type": "display_data"
    }
   ],
   "source": [
    "sns.scatterplot(x=df['built_up_area'],y=df['carpet_area'])"
   ]
  },
  {
   "cell_type": "code",
   "execution_count": 9,
   "id": "b926788c",
   "metadata": {
    "ExecuteTime": {
     "end_time": "2024-04-09T13:24:19.864663Z",
     "start_time": "2024-04-09T13:24:19.850448Z"
    }
   },
   "outputs": [
    {
     "data": {
      "text/plain": [
       "0       False\n",
       "1       False\n",
       "2       False\n",
       "3       False\n",
       "4       False\n",
       "        ...  \n",
       "3550    False\n",
       "3551    False\n",
       "3552    False\n",
       "3553    False\n",
       "3554    False\n",
       "Length: 3555, dtype: bool"
      ]
     },
     "execution_count": 9,
     "metadata": {},
     "output_type": "execute_result"
    }
   ],
   "source": [
    "((df['super_built_up_area'].isnull()) & (df['built_up_area'].isnull()) & (df['carpet_area'].isnull()))"
   ]
  },
  {
   "cell_type": "code",
   "execution_count": 10,
   "id": "64276648",
   "metadata": {
    "ExecuteTime": {
     "end_time": "2024-04-09T13:24:22.002553Z",
     "start_time": "2024-04-09T13:24:21.993302Z"
    }
   },
   "outputs": [],
   "source": [
    "all_present_df = df[~((df['super_built_up_area'].isnull()) | (df['built_up_area'].isnull()) | (df['carpet_area'].isnull()))]"
   ]
  },
  {
   "cell_type": "code",
   "execution_count": 11,
   "id": "01cf4962",
   "metadata": {
    "ExecuteTime": {
     "end_time": "2024-04-09T13:24:23.772669Z",
     "start_time": "2024-04-09T13:24:23.763415Z"
    }
   },
   "outputs": [
    {
     "data": {
      "text/plain": [
       "(531, 24)"
      ]
     },
     "execution_count": 11,
     "metadata": {},
     "output_type": "execute_result"
    }
   ],
   "source": [
    "all_present_df.shape"
   ]
  },
  {
   "cell_type": "code",
   "execution_count": 12,
   "id": "6ce61219",
   "metadata": {
    "ExecuteTime": {
     "end_time": "2024-04-09T13:24:25.315823Z",
     "start_time": "2024-04-09T13:24:25.308177Z"
    }
   },
   "outputs": [],
   "source": [
    "super_to_built_up_ratio = (all_present_df['super_built_up_area']/all_present_df['built_up_area']).median()"
   ]
  },
  {
   "cell_type": "code",
   "execution_count": 13,
   "id": "84fb9f2b",
   "metadata": {
    "ExecuteTime": {
     "end_time": "2024-04-09T13:24:28.501822Z",
     "start_time": "2024-04-09T13:24:28.495460Z"
    }
   },
   "outputs": [],
   "source": [
    "carpet_to_built_up_ratio = (all_present_df['carpet_area']/all_present_df['built_up_area']).median()"
   ]
  },
  {
   "cell_type": "code",
   "execution_count": 14,
   "id": "9b3b57fc",
   "metadata": {
    "ExecuteTime": {
     "end_time": "2024-04-09T13:24:29.649247Z",
     "start_time": "2024-04-09T13:24:29.641248Z"
    }
   },
   "outputs": [
    {
     "name": "stdout",
     "output_type": "stream",
     "text": [
      "1.105263157894737 0.9\n"
     ]
    }
   ],
   "source": [
    "print(super_to_built_up_ratio, carpet_to_built_up_ratio)"
   ]
  },
  {
   "cell_type": "code",
   "execution_count": 15,
   "id": "e143ffa6",
   "metadata": {
    "ExecuteTime": {
     "end_time": "2024-04-09T13:24:35.081248Z",
     "start_time": "2024-04-09T13:24:35.071375Z"
    }
   },
   "outputs": [],
   "source": [
    "# both present built up null\n",
    "sbc_df = df[~(df['super_built_up_area'].isnull()) & (df['built_up_area'].isnull()) & ~(df['carpet_area'].isnull())]"
   ]
  },
  {
   "cell_type": "code",
   "execution_count": 16,
   "id": "3ed3b8f6",
   "metadata": {
    "ExecuteTime": {
     "end_time": "2024-04-09T13:24:39.187776Z",
     "start_time": "2024-04-09T13:24:39.118859Z"
    }
   },
   "outputs": [
    {
     "data": {
      "text/html": [
       "<div>\n",
       "<style scoped>\n",
       "    .dataframe tbody tr th:only-of-type {\n",
       "        vertical-align: middle;\n",
       "    }\n",
       "\n",
       "    .dataframe tbody tr th {\n",
       "        vertical-align: top;\n",
       "    }\n",
       "\n",
       "    .dataframe thead th {\n",
       "        text-align: right;\n",
       "    }\n",
       "</style>\n",
       "<table border=\"1\" class=\"dataframe\">\n",
       "  <thead>\n",
       "    <tr style=\"text-align: right;\">\n",
       "      <th></th>\n",
       "      <th>property_type</th>\n",
       "      <th>society</th>\n",
       "      <th>sector</th>\n",
       "      <th>price</th>\n",
       "      <th>price_per_sqft</th>\n",
       "      <th>area</th>\n",
       "      <th>areaWithType</th>\n",
       "      <th>bedRoom</th>\n",
       "      <th>bathroom</th>\n",
       "      <th>balcony</th>\n",
       "      <th>floorNum</th>\n",
       "      <th>facing</th>\n",
       "      <th>agePossession</th>\n",
       "      <th>super_built_up_area</th>\n",
       "      <th>built_up_area</th>\n",
       "      <th>carpet_area</th>\n",
       "      <th>study room</th>\n",
       "      <th>servant room</th>\n",
       "      <th>store room</th>\n",
       "      <th>pooja room</th>\n",
       "      <th>others</th>\n",
       "      <th>furnishing_type</th>\n",
       "      <th>luxury_score</th>\n",
       "      <th>area_room_ratio</th>\n",
       "    </tr>\n",
       "  </thead>\n",
       "  <tbody>\n",
       "    <tr>\n",
       "      <th>0</th>\n",
       "      <td>flat</td>\n",
       "      <td>signature global park 4</td>\n",
       "      <td>sector 36</td>\n",
       "      <td>0.82</td>\n",
       "      <td>7586.0</td>\n",
       "      <td>1081.0</td>\n",
       "      <td>Super Built up area 1081(100.43 sq.m.)Carpet a...</td>\n",
       "      <td>3.0</td>\n",
       "      <td>2.0</td>\n",
       "      <td>2</td>\n",
       "      <td>2.0</td>\n",
       "      <td>NaN</td>\n",
       "      <td>New Property</td>\n",
       "      <td>1081.0</td>\n",
       "      <td>NaN</td>\n",
       "      <td>650.0</td>\n",
       "      <td>0.0</td>\n",
       "      <td>0.0</td>\n",
       "      <td>0.0</td>\n",
       "      <td>0.0</td>\n",
       "      <td>0.0</td>\n",
       "      <td>0.0</td>\n",
       "      <td>8.0</td>\n",
       "      <td>360.333333</td>\n",
       "    </tr>\n",
       "    <tr>\n",
       "      <th>4</th>\n",
       "      <td>flat</td>\n",
       "      <td>suncity avenue</td>\n",
       "      <td>sector 102</td>\n",
       "      <td>0.48</td>\n",
       "      <td>9023.0</td>\n",
       "      <td>532.0</td>\n",
       "      <td>Super Built up area 632(58.71 sq.m.)Carpet are...</td>\n",
       "      <td>2.0</td>\n",
       "      <td>2.0</td>\n",
       "      <td>1</td>\n",
       "      <td>5.0</td>\n",
       "      <td>North-East</td>\n",
       "      <td>Relatively New</td>\n",
       "      <td>632.0</td>\n",
       "      <td>NaN</td>\n",
       "      <td>532.0</td>\n",
       "      <td>0.0</td>\n",
       "      <td>0.0</td>\n",
       "      <td>1.0</td>\n",
       "      <td>0.0</td>\n",
       "      <td>0.0</td>\n",
       "      <td>0.0</td>\n",
       "      <td>159.0</td>\n",
       "      <td>266.000000</td>\n",
       "    </tr>\n",
       "    <tr>\n",
       "      <th>38</th>\n",
       "      <td>flat</td>\n",
       "      <td>corona optus</td>\n",
       "      <td>sector 37</td>\n",
       "      <td>1.25</td>\n",
       "      <td>7176.0</td>\n",
       "      <td>1742.0</td>\n",
       "      <td>Super Built up area 1735(161.19 sq.m.)Carpet a...</td>\n",
       "      <td>3.0</td>\n",
       "      <td>3.0</td>\n",
       "      <td>3</td>\n",
       "      <td>2.0</td>\n",
       "      <td>North-West</td>\n",
       "      <td>Relatively New</td>\n",
       "      <td>1735.0</td>\n",
       "      <td>NaN</td>\n",
       "      <td>1400.0</td>\n",
       "      <td>1.0</td>\n",
       "      <td>0.0</td>\n",
       "      <td>0.0</td>\n",
       "      <td>0.0</td>\n",
       "      <td>0.0</td>\n",
       "      <td>0.0</td>\n",
       "      <td>49.0</td>\n",
       "      <td>580.666667</td>\n",
       "    </tr>\n",
       "    <tr>\n",
       "      <th>40</th>\n",
       "      <td>flat</td>\n",
       "      <td>m3m merlin</td>\n",
       "      <td>sector 67</td>\n",
       "      <td>2.80</td>\n",
       "      <td>13679.0</td>\n",
       "      <td>2047.0</td>\n",
       "      <td>Super Built up area 2047(190.17 sq.m.)Carpet a...</td>\n",
       "      <td>3.0</td>\n",
       "      <td>3.0</td>\n",
       "      <td>3</td>\n",
       "      <td>5.0</td>\n",
       "      <td>North-East</td>\n",
       "      <td>Moderately Old</td>\n",
       "      <td>2047.0</td>\n",
       "      <td>NaN</td>\n",
       "      <td>1880.0</td>\n",
       "      <td>0.0</td>\n",
       "      <td>1.0</td>\n",
       "      <td>0.0</td>\n",
       "      <td>0.0</td>\n",
       "      <td>0.0</td>\n",
       "      <td>2.0</td>\n",
       "      <td>26.0</td>\n",
       "      <td>682.333333</td>\n",
       "    </tr>\n",
       "    <tr>\n",
       "      <th>45</th>\n",
       "      <td>flat</td>\n",
       "      <td>smart world orchard</td>\n",
       "      <td>sector 61</td>\n",
       "      <td>2.10</td>\n",
       "      <td>13752.0</td>\n",
       "      <td>1527.0</td>\n",
       "      <td>Super Built up area 1549(143.91 sq.m.)Carpet a...</td>\n",
       "      <td>3.0</td>\n",
       "      <td>2.0</td>\n",
       "      <td>3</td>\n",
       "      <td>3.0</td>\n",
       "      <td>South</td>\n",
       "      <td>Under Construction</td>\n",
       "      <td>1549.0</td>\n",
       "      <td>NaN</td>\n",
       "      <td>1500.0</td>\n",
       "      <td>0.0</td>\n",
       "      <td>0.0</td>\n",
       "      <td>0.0</td>\n",
       "      <td>0.0</td>\n",
       "      <td>0.0</td>\n",
       "      <td>0.0</td>\n",
       "      <td>146.0</td>\n",
       "      <td>509.000000</td>\n",
       "    </tr>\n",
       "  </tbody>\n",
       "</table>\n",
       "</div>"
      ],
      "text/plain": [
       "   property_type                  society      sector  price  price_per_sqft  \\\n",
       "0           flat  signature global park 4   sector 36   0.82          7586.0   \n",
       "4           flat           suncity avenue  sector 102   0.48          9023.0   \n",
       "38          flat             corona optus   sector 37   1.25          7176.0   \n",
       "40          flat               m3m merlin   sector 67   2.80         13679.0   \n",
       "45          flat      smart world orchard   sector 61   2.10         13752.0   \n",
       "\n",
       "      area                                       areaWithType  bedRoom  \\\n",
       "0   1081.0  Super Built up area 1081(100.43 sq.m.)Carpet a...      3.0   \n",
       "4    532.0  Super Built up area 632(58.71 sq.m.)Carpet are...      2.0   \n",
       "38  1742.0  Super Built up area 1735(161.19 sq.m.)Carpet a...      3.0   \n",
       "40  2047.0  Super Built up area 2047(190.17 sq.m.)Carpet a...      3.0   \n",
       "45  1527.0  Super Built up area 1549(143.91 sq.m.)Carpet a...      3.0   \n",
       "\n",
       "    bathroom balcony  floorNum      facing       agePossession  \\\n",
       "0        2.0       2       2.0         NaN        New Property   \n",
       "4        2.0       1       5.0  North-East      Relatively New   \n",
       "38       3.0       3       2.0  North-West      Relatively New   \n",
       "40       3.0       3       5.0  North-East      Moderately Old   \n",
       "45       2.0       3       3.0       South  Under Construction   \n",
       "\n",
       "    super_built_up_area  built_up_area  carpet_area  study room  servant room  \\\n",
       "0                1081.0            NaN        650.0         0.0           0.0   \n",
       "4                 632.0            NaN        532.0         0.0           0.0   \n",
       "38               1735.0            NaN       1400.0         1.0           0.0   \n",
       "40               2047.0            NaN       1880.0         0.0           1.0   \n",
       "45               1549.0            NaN       1500.0         0.0           0.0   \n",
       "\n",
       "    store room  pooja room  others  furnishing_type  luxury_score  \\\n",
       "0          0.0         0.0     0.0              0.0           8.0   \n",
       "4          1.0         0.0     0.0              0.0         159.0   \n",
       "38         0.0         0.0     0.0              0.0          49.0   \n",
       "40         0.0         0.0     0.0              2.0          26.0   \n",
       "45         0.0         0.0     0.0              0.0         146.0   \n",
       "\n",
       "    area_room_ratio  \n",
       "0        360.333333  \n",
       "4        266.000000  \n",
       "38       580.666667  \n",
       "40       682.333333  \n",
       "45       509.000000  "
      ]
     },
     "execution_count": 16,
     "metadata": {},
     "output_type": "execute_result"
    }
   ],
   "source": [
    "sbc_df.head()"
   ]
  },
  {
   "cell_type": "code",
   "execution_count": 17,
   "id": "9297f7fc",
   "metadata": {
    "ExecuteTime": {
     "end_time": "2024-04-09T13:24:42.705217Z",
     "start_time": "2024-04-09T13:24:42.676416Z"
    }
   },
   "outputs": [
    {
     "name": "stderr",
     "output_type": "stream",
     "text": [
      "C:\\Users\\Acer\\AppData\\Local\\Temp\\ipykernel_13924\\1215074969.py:1: SettingWithCopyWarning: \n",
      "A value is trying to be set on a copy of a slice from a DataFrame\n",
      "\n",
      "See the caveats in the documentation: https://pandas.pydata.org/pandas-docs/stable/user_guide/indexing.html#returning-a-view-versus-a-copy\n",
      "  sbc_df['built_up_area'].fillna(round(((sbc_df['super_built_up_area']/1.105) + (sbc_df['carpet_area']/0.9))/2),inplace=True)\n"
     ]
    }
   ],
   "source": [
    "sbc_df['built_up_area'].fillna(round(((sbc_df['super_built_up_area']/1.105) + (sbc_df['carpet_area']/0.9))/2),inplace=True)"
   ]
  },
  {
   "cell_type": "code",
   "execution_count": 18,
   "id": "8b2b0cb2",
   "metadata": {
    "ExecuteTime": {
     "end_time": "2024-04-09T13:24:44.681970Z",
     "start_time": "2024-04-09T13:24:44.663093Z"
    }
   },
   "outputs": [],
   "source": [
    "df.update(sbc_df)"
   ]
  },
  {
   "cell_type": "code",
   "execution_count": 19,
   "id": "643fa2da",
   "metadata": {
    "ExecuteTime": {
     "end_time": "2024-04-09T13:24:45.708811Z",
     "start_time": "2024-04-09T13:24:45.694408Z"
    }
   },
   "outputs": [
    {
     "data": {
      "text/plain": [
       "property_type             0\n",
       "society                   1\n",
       "sector                    0\n",
       "price                     0\n",
       "price_per_sqft            0\n",
       "area                      0\n",
       "areaWithType              0\n",
       "bedRoom                   0\n",
       "bathroom                  0\n",
       "balcony                   0\n",
       "floorNum                 17\n",
       "facing                 1011\n",
       "agePossession             0\n",
       "super_built_up_area    1680\n",
       "built_up_area          1547\n",
       "carpet_area            1715\n",
       "study room                0\n",
       "servant room              0\n",
       "store room                0\n",
       "pooja room                0\n",
       "others                    0\n",
       "furnishing_type           0\n",
       "luxury_score              0\n",
       "area_room_ratio           0\n",
       "dtype: int64"
      ]
     },
     "execution_count": 19,
     "metadata": {},
     "output_type": "execute_result"
    }
   ],
   "source": [
    "df.isnull().sum()"
   ]
  },
  {
   "cell_type": "code",
   "execution_count": 20,
   "id": "73ccd48e",
   "metadata": {
    "ExecuteTime": {
     "end_time": "2024-04-09T13:24:49.210164Z",
     "start_time": "2024-04-09T13:24:49.201160Z"
    }
   },
   "outputs": [],
   "source": [
    "# sb present c is null built up null\n",
    "sb_df = df[~(df['super_built_up_area'].isnull()) & (df['built_up_area'].isnull()) & (df['carpet_area'].isnull())]"
   ]
  },
  {
   "cell_type": "code",
   "execution_count": 21,
   "id": "e6b70c6f",
   "metadata": {
    "ExecuteTime": {
     "end_time": "2024-04-09T13:24:50.757916Z",
     "start_time": "2024-04-09T13:24:50.695693Z"
    }
   },
   "outputs": [
    {
     "data": {
      "text/html": [
       "<div>\n",
       "<style scoped>\n",
       "    .dataframe tbody tr th:only-of-type {\n",
       "        vertical-align: middle;\n",
       "    }\n",
       "\n",
       "    .dataframe tbody tr th {\n",
       "        vertical-align: top;\n",
       "    }\n",
       "\n",
       "    .dataframe thead th {\n",
       "        text-align: right;\n",
       "    }\n",
       "</style>\n",
       "<table border=\"1\" class=\"dataframe\">\n",
       "  <thead>\n",
       "    <tr style=\"text-align: right;\">\n",
       "      <th></th>\n",
       "      <th>property_type</th>\n",
       "      <th>society</th>\n",
       "      <th>sector</th>\n",
       "      <th>price</th>\n",
       "      <th>price_per_sqft</th>\n",
       "      <th>area</th>\n",
       "      <th>areaWithType</th>\n",
       "      <th>bedRoom</th>\n",
       "      <th>bathroom</th>\n",
       "      <th>balcony</th>\n",
       "      <th>floorNum</th>\n",
       "      <th>facing</th>\n",
       "      <th>agePossession</th>\n",
       "      <th>super_built_up_area</th>\n",
       "      <th>built_up_area</th>\n",
       "      <th>carpet_area</th>\n",
       "      <th>study room</th>\n",
       "      <th>servant room</th>\n",
       "      <th>store room</th>\n",
       "      <th>pooja room</th>\n",
       "      <th>others</th>\n",
       "      <th>furnishing_type</th>\n",
       "      <th>luxury_score</th>\n",
       "      <th>area_room_ratio</th>\n",
       "    </tr>\n",
       "  </thead>\n",
       "  <tbody>\n",
       "    <tr>\n",
       "      <th>5</th>\n",
       "      <td>flat</td>\n",
       "      <td>paras quartier</td>\n",
       "      <td>gwal pahari</td>\n",
       "      <td>7.50</td>\n",
       "      <td>14019.0</td>\n",
       "      <td>5350.0</td>\n",
       "      <td>Super Built up area 5350(497.03 sq.m.)</td>\n",
       "      <td>4.0</td>\n",
       "      <td>4.0</td>\n",
       "      <td>3+</td>\n",
       "      <td>20.0</td>\n",
       "      <td>North-East</td>\n",
       "      <td>New Property</td>\n",
       "      <td>5350.0</td>\n",
       "      <td>NaN</td>\n",
       "      <td>NaN</td>\n",
       "      <td>0.0</td>\n",
       "      <td>1.0</td>\n",
       "      <td>0.0</td>\n",
       "      <td>1.0</td>\n",
       "      <td>1.0</td>\n",
       "      <td>1.0</td>\n",
       "      <td>49.0</td>\n",
       "      <td>1337.500000</td>\n",
       "    </tr>\n",
       "    <tr>\n",
       "      <th>6</th>\n",
       "      <td>flat</td>\n",
       "      <td>experion the heartsong</td>\n",
       "      <td>sector 108</td>\n",
       "      <td>2.00</td>\n",
       "      <td>8554.0</td>\n",
       "      <td>2338.0</td>\n",
       "      <td>Super Built up area 2338(217.21 sq.m.)</td>\n",
       "      <td>3.0</td>\n",
       "      <td>3.0</td>\n",
       "      <td>3+</td>\n",
       "      <td>14.0</td>\n",
       "      <td>East</td>\n",
       "      <td>Relatively New</td>\n",
       "      <td>2338.0</td>\n",
       "      <td>NaN</td>\n",
       "      <td>NaN</td>\n",
       "      <td>0.0</td>\n",
       "      <td>1.0</td>\n",
       "      <td>0.0</td>\n",
       "      <td>0.0</td>\n",
       "      <td>0.0</td>\n",
       "      <td>0.0</td>\n",
       "      <td>95.0</td>\n",
       "      <td>779.333333</td>\n",
       "    </tr>\n",
       "    <tr>\n",
       "      <th>7</th>\n",
       "      <td>flat</td>\n",
       "      <td>adani m2k oyster grande</td>\n",
       "      <td>sector 102</td>\n",
       "      <td>1.90</td>\n",
       "      <td>9104.0</td>\n",
       "      <td>2087.0</td>\n",
       "      <td>Super Built up area 1889(175.49 sq.m.)</td>\n",
       "      <td>3.0</td>\n",
       "      <td>4.0</td>\n",
       "      <td>3</td>\n",
       "      <td>8.0</td>\n",
       "      <td>North-East</td>\n",
       "      <td>Relatively New</td>\n",
       "      <td>1889.0</td>\n",
       "      <td>NaN</td>\n",
       "      <td>NaN</td>\n",
       "      <td>0.0</td>\n",
       "      <td>1.0</td>\n",
       "      <td>0.0</td>\n",
       "      <td>0.0</td>\n",
       "      <td>0.0</td>\n",
       "      <td>0.0</td>\n",
       "      <td>165.0</td>\n",
       "      <td>695.666667</td>\n",
       "    </tr>\n",
       "    <tr>\n",
       "      <th>12</th>\n",
       "      <td>flat</td>\n",
       "      <td>ats tourmaline</td>\n",
       "      <td>sector 109</td>\n",
       "      <td>2.25</td>\n",
       "      <td>8704.0</td>\n",
       "      <td>2585.0</td>\n",
       "      <td>Super Built up area 2585(240.15 sq.m.)</td>\n",
       "      <td>3.0</td>\n",
       "      <td>4.0</td>\n",
       "      <td>3</td>\n",
       "      <td>14.0</td>\n",
       "      <td>North-East</td>\n",
       "      <td>Relatively New</td>\n",
       "      <td>2585.0</td>\n",
       "      <td>NaN</td>\n",
       "      <td>NaN</td>\n",
       "      <td>0.0</td>\n",
       "      <td>1.0</td>\n",
       "      <td>0.0</td>\n",
       "      <td>0.0</td>\n",
       "      <td>0.0</td>\n",
       "      <td>0.0</td>\n",
       "      <td>101.0</td>\n",
       "      <td>861.666667</td>\n",
       "    </tr>\n",
       "    <tr>\n",
       "      <th>15</th>\n",
       "      <td>flat</td>\n",
       "      <td>bestech park view sanskruti</td>\n",
       "      <td>sector 92</td>\n",
       "      <td>1.55</td>\n",
       "      <td>7568.0</td>\n",
       "      <td>2048.0</td>\n",
       "      <td>Super Built up area 1995(185.34 sq.m.)</td>\n",
       "      <td>3.0</td>\n",
       "      <td>4.0</td>\n",
       "      <td>3</td>\n",
       "      <td>16.0</td>\n",
       "      <td>South</td>\n",
       "      <td>Relatively New</td>\n",
       "      <td>1995.0</td>\n",
       "      <td>NaN</td>\n",
       "      <td>NaN</td>\n",
       "      <td>0.0</td>\n",
       "      <td>1.0</td>\n",
       "      <td>0.0</td>\n",
       "      <td>0.0</td>\n",
       "      <td>0.0</td>\n",
       "      <td>1.0</td>\n",
       "      <td>60.0</td>\n",
       "      <td>682.666667</td>\n",
       "    </tr>\n",
       "  </tbody>\n",
       "</table>\n",
       "</div>"
      ],
      "text/plain": [
       "   property_type                      society       sector  price  \\\n",
       "5           flat               paras quartier  gwal pahari   7.50   \n",
       "6           flat       experion the heartsong   sector 108   2.00   \n",
       "7           flat      adani m2k oyster grande   sector 102   1.90   \n",
       "12          flat               ats tourmaline   sector 109   2.25   \n",
       "15          flat  bestech park view sanskruti    sector 92   1.55   \n",
       "\n",
       "    price_per_sqft    area                            areaWithType  bedRoom  \\\n",
       "5          14019.0  5350.0  Super Built up area 5350(497.03 sq.m.)      4.0   \n",
       "6           8554.0  2338.0  Super Built up area 2338(217.21 sq.m.)      3.0   \n",
       "7           9104.0  2087.0  Super Built up area 1889(175.49 sq.m.)      3.0   \n",
       "12          8704.0  2585.0  Super Built up area 2585(240.15 sq.m.)      3.0   \n",
       "15          7568.0  2048.0  Super Built up area 1995(185.34 sq.m.)      3.0   \n",
       "\n",
       "    bathroom balcony  floorNum      facing   agePossession  \\\n",
       "5        4.0      3+      20.0  North-East    New Property   \n",
       "6        3.0      3+      14.0        East  Relatively New   \n",
       "7        4.0       3       8.0  North-East  Relatively New   \n",
       "12       4.0       3      14.0  North-East  Relatively New   \n",
       "15       4.0       3      16.0       South  Relatively New   \n",
       "\n",
       "    super_built_up_area  built_up_area  carpet_area  study room  servant room  \\\n",
       "5                5350.0            NaN          NaN         0.0           1.0   \n",
       "6                2338.0            NaN          NaN         0.0           1.0   \n",
       "7                1889.0            NaN          NaN         0.0           1.0   \n",
       "12               2585.0            NaN          NaN         0.0           1.0   \n",
       "15               1995.0            NaN          NaN         0.0           1.0   \n",
       "\n",
       "    store room  pooja room  others  furnishing_type  luxury_score  \\\n",
       "5          0.0         1.0     1.0              1.0          49.0   \n",
       "6          0.0         0.0     0.0              0.0          95.0   \n",
       "7          0.0         0.0     0.0              0.0         165.0   \n",
       "12         0.0         0.0     0.0              0.0         101.0   \n",
       "15         0.0         0.0     0.0              1.0          60.0   \n",
       "\n",
       "    area_room_ratio  \n",
       "5       1337.500000  \n",
       "6        779.333333  \n",
       "7        695.666667  \n",
       "12       861.666667  \n",
       "15       682.666667  "
      ]
     },
     "execution_count": 21,
     "metadata": {},
     "output_type": "execute_result"
    }
   ],
   "source": [
    "sb_df.head()"
   ]
  },
  {
   "cell_type": "code",
   "execution_count": 22,
   "id": "804d5a27",
   "metadata": {
    "ExecuteTime": {
     "end_time": "2024-04-09T13:24:52.355569Z",
     "start_time": "2024-04-09T13:24:52.344942Z"
    }
   },
   "outputs": [
    {
     "name": "stderr",
     "output_type": "stream",
     "text": [
      "C:\\Users\\Acer\\AppData\\Local\\Temp\\ipykernel_13924\\1714170073.py:1: SettingWithCopyWarning: \n",
      "A value is trying to be set on a copy of a slice from a DataFrame\n",
      "\n",
      "See the caveats in the documentation: https://pandas.pydata.org/pandas-docs/stable/user_guide/indexing.html#returning-a-view-versus-a-copy\n",
      "  sb_df['built_up_area'].fillna(round(sb_df['super_built_up_area']/1.105),inplace=True)\n"
     ]
    }
   ],
   "source": [
    "sb_df['built_up_area'].fillna(round(sb_df['super_built_up_area']/1.105),inplace=True)"
   ]
  },
  {
   "cell_type": "code",
   "execution_count": 23,
   "id": "0cfba588",
   "metadata": {
    "ExecuteTime": {
     "end_time": "2024-04-09T13:24:54.084738Z",
     "start_time": "2024-04-09T13:24:54.059639Z"
    }
   },
   "outputs": [],
   "source": [
    "df.update(sb_df)"
   ]
  },
  {
   "cell_type": "code",
   "execution_count": 24,
   "id": "de0ff85e",
   "metadata": {
    "ExecuteTime": {
     "end_time": "2024-04-09T13:24:54.947137Z",
     "start_time": "2024-04-09T13:24:54.929699Z"
    }
   },
   "outputs": [
    {
     "data": {
      "text/plain": [
       "property_type             0\n",
       "society                   1\n",
       "sector                    0\n",
       "price                     0\n",
       "price_per_sqft            0\n",
       "area                      0\n",
       "areaWithType              0\n",
       "bedRoom                   0\n",
       "bathroom                  0\n",
       "balcony                   0\n",
       "floorNum                 17\n",
       "facing                 1011\n",
       "agePossession             0\n",
       "super_built_up_area    1680\n",
       "built_up_area           672\n",
       "carpet_area            1715\n",
       "study room                0\n",
       "servant room              0\n",
       "store room                0\n",
       "pooja room                0\n",
       "others                    0\n",
       "furnishing_type           0\n",
       "luxury_score              0\n",
       "area_room_ratio           0\n",
       "dtype: int64"
      ]
     },
     "execution_count": 24,
     "metadata": {},
     "output_type": "execute_result"
    }
   ],
   "source": [
    "df.isnull().sum()"
   ]
  },
  {
   "cell_type": "code",
   "execution_count": 25,
   "id": "0f8aef54",
   "metadata": {
    "ExecuteTime": {
     "end_time": "2024-04-09T13:25:01.147795Z",
     "start_time": "2024-04-09T13:25:01.138390Z"
    }
   },
   "outputs": [],
   "source": [
    "# sb null c is present built up null\n",
    "c_df = df[(df['super_built_up_area'].isnull()) & (df['built_up_area'].isnull()) & ~(df['carpet_area'].isnull())]"
   ]
  },
  {
   "cell_type": "code",
   "execution_count": 26,
   "id": "694aef98",
   "metadata": {
    "ExecuteTime": {
     "end_time": "2024-04-09T13:25:02.696106Z",
     "start_time": "2024-04-09T13:25:02.635022Z"
    }
   },
   "outputs": [
    {
     "data": {
      "text/html": [
       "<div>\n",
       "<style scoped>\n",
       "    .dataframe tbody tr th:only-of-type {\n",
       "        vertical-align: middle;\n",
       "    }\n",
       "\n",
       "    .dataframe tbody tr th {\n",
       "        vertical-align: top;\n",
       "    }\n",
       "\n",
       "    .dataframe thead th {\n",
       "        text-align: right;\n",
       "    }\n",
       "</style>\n",
       "<table border=\"1\" class=\"dataframe\">\n",
       "  <thead>\n",
       "    <tr style=\"text-align: right;\">\n",
       "      <th></th>\n",
       "      <th>property_type</th>\n",
       "      <th>society</th>\n",
       "      <th>sector</th>\n",
       "      <th>price</th>\n",
       "      <th>price_per_sqft</th>\n",
       "      <th>area</th>\n",
       "      <th>areaWithType</th>\n",
       "      <th>bedRoom</th>\n",
       "      <th>bathroom</th>\n",
       "      <th>balcony</th>\n",
       "      <th>floorNum</th>\n",
       "      <th>facing</th>\n",
       "      <th>agePossession</th>\n",
       "      <th>super_built_up_area</th>\n",
       "      <th>built_up_area</th>\n",
       "      <th>carpet_area</th>\n",
       "      <th>study room</th>\n",
       "      <th>servant room</th>\n",
       "      <th>store room</th>\n",
       "      <th>pooja room</th>\n",
       "      <th>others</th>\n",
       "      <th>furnishing_type</th>\n",
       "      <th>luxury_score</th>\n",
       "      <th>area_room_ratio</th>\n",
       "    </tr>\n",
       "  </thead>\n",
       "  <tbody>\n",
       "    <tr>\n",
       "      <th>1</th>\n",
       "      <td>flat</td>\n",
       "      <td>smart world gems</td>\n",
       "      <td>sector 89</td>\n",
       "      <td>0.95</td>\n",
       "      <td>8597.0</td>\n",
       "      <td>1105.0</td>\n",
       "      <td>Carpet area: 1103 (102.47 sq.m.)</td>\n",
       "      <td>2.0</td>\n",
       "      <td>2.0</td>\n",
       "      <td>2</td>\n",
       "      <td>4.0</td>\n",
       "      <td>NaN</td>\n",
       "      <td>New Property</td>\n",
       "      <td>NaN</td>\n",
       "      <td>NaN</td>\n",
       "      <td>1103.0</td>\n",
       "      <td>1.0</td>\n",
       "      <td>1.0</td>\n",
       "      <td>0.0</td>\n",
       "      <td>0.0</td>\n",
       "      <td>0.0</td>\n",
       "      <td>0.0</td>\n",
       "      <td>38.0</td>\n",
       "      <td>552.50</td>\n",
       "    </tr>\n",
       "    <tr>\n",
       "      <th>11</th>\n",
       "      <td>flat</td>\n",
       "      <td>dlf regency park</td>\n",
       "      <td>sector 28</td>\n",
       "      <td>1.60</td>\n",
       "      <td>14545.0</td>\n",
       "      <td>1100.0</td>\n",
       "      <td>Carpet area: 1100 (102.19 sq.m.)</td>\n",
       "      <td>2.0</td>\n",
       "      <td>2.0</td>\n",
       "      <td>2</td>\n",
       "      <td>3.0</td>\n",
       "      <td>North</td>\n",
       "      <td>Relatively New</td>\n",
       "      <td>NaN</td>\n",
       "      <td>NaN</td>\n",
       "      <td>1100.0</td>\n",
       "      <td>0.0</td>\n",
       "      <td>0.0</td>\n",
       "      <td>0.0</td>\n",
       "      <td>0.0</td>\n",
       "      <td>0.0</td>\n",
       "      <td>0.0</td>\n",
       "      <td>52.0</td>\n",
       "      <td>550.00</td>\n",
       "    </tr>\n",
       "    <tr>\n",
       "      <th>13</th>\n",
       "      <td>flat</td>\n",
       "      <td>emaar mgf emerald floors premier</td>\n",
       "      <td>sector 65</td>\n",
       "      <td>2.77</td>\n",
       "      <td>14025.0</td>\n",
       "      <td>1975.0</td>\n",
       "      <td>Carpet area: 1975 (183.48 sq.m.)</td>\n",
       "      <td>4.0</td>\n",
       "      <td>4.0</td>\n",
       "      <td>3+</td>\n",
       "      <td>3.0</td>\n",
       "      <td>North-East</td>\n",
       "      <td>Relatively New</td>\n",
       "      <td>NaN</td>\n",
       "      <td>NaN</td>\n",
       "      <td>1975.0</td>\n",
       "      <td>1.0</td>\n",
       "      <td>1.0</td>\n",
       "      <td>0.0</td>\n",
       "      <td>0.0</td>\n",
       "      <td>0.0</td>\n",
       "      <td>2.0</td>\n",
       "      <td>174.0</td>\n",
       "      <td>493.75</td>\n",
       "    </tr>\n",
       "    <tr>\n",
       "      <th>19</th>\n",
       "      <td>flat</td>\n",
       "      <td>afnhb jalvayu vihar</td>\n",
       "      <td>sector 30</td>\n",
       "      <td>0.85</td>\n",
       "      <td>12859.0</td>\n",
       "      <td>661.0</td>\n",
       "      <td>Carpet area: 661 (61.41 sq.m.)</td>\n",
       "      <td>2.0</td>\n",
       "      <td>2.0</td>\n",
       "      <td>1</td>\n",
       "      <td>2.0</td>\n",
       "      <td>West</td>\n",
       "      <td>Old Property</td>\n",
       "      <td>NaN</td>\n",
       "      <td>NaN</td>\n",
       "      <td>661.0</td>\n",
       "      <td>0.0</td>\n",
       "      <td>0.0</td>\n",
       "      <td>0.0</td>\n",
       "      <td>0.0</td>\n",
       "      <td>1.0</td>\n",
       "      <td>1.0</td>\n",
       "      <td>49.0</td>\n",
       "      <td>330.50</td>\n",
       "    </tr>\n",
       "    <tr>\n",
       "      <th>25</th>\n",
       "      <td>flat</td>\n",
       "      <td>chanderlok society</td>\n",
       "      <td>sector 28</td>\n",
       "      <td>0.90</td>\n",
       "      <td>7235.0</td>\n",
       "      <td>1244.0</td>\n",
       "      <td>Carpet area: 1244 (115.57 sq.m.)</td>\n",
       "      <td>4.0</td>\n",
       "      <td>2.0</td>\n",
       "      <td>3+</td>\n",
       "      <td>1.0</td>\n",
       "      <td>NaN</td>\n",
       "      <td>Old Property</td>\n",
       "      <td>NaN</td>\n",
       "      <td>NaN</td>\n",
       "      <td>1244.0</td>\n",
       "      <td>0.0</td>\n",
       "      <td>0.0</td>\n",
       "      <td>0.0</td>\n",
       "      <td>0.0</td>\n",
       "      <td>0.0</td>\n",
       "      <td>0.0</td>\n",
       "      <td>0.0</td>\n",
       "      <td>311.00</td>\n",
       "    </tr>\n",
       "  </tbody>\n",
       "</table>\n",
       "</div>"
      ],
      "text/plain": [
       "   property_type                           society     sector  price  \\\n",
       "1           flat                  smart world gems  sector 89   0.95   \n",
       "11          flat                  dlf regency park  sector 28   1.60   \n",
       "13          flat  emaar mgf emerald floors premier  sector 65   2.77   \n",
       "19          flat               afnhb jalvayu vihar  sector 30   0.85   \n",
       "25          flat                chanderlok society  sector 28   0.90   \n",
       "\n",
       "    price_per_sqft    area                      areaWithType  bedRoom  \\\n",
       "1           8597.0  1105.0  Carpet area: 1103 (102.47 sq.m.)      2.0   \n",
       "11         14545.0  1100.0  Carpet area: 1100 (102.19 sq.m.)      2.0   \n",
       "13         14025.0  1975.0  Carpet area: 1975 (183.48 sq.m.)      4.0   \n",
       "19         12859.0   661.0    Carpet area: 661 (61.41 sq.m.)      2.0   \n",
       "25          7235.0  1244.0  Carpet area: 1244 (115.57 sq.m.)      4.0   \n",
       "\n",
       "    bathroom balcony  floorNum      facing   agePossession  \\\n",
       "1        2.0       2       4.0         NaN    New Property   \n",
       "11       2.0       2       3.0       North  Relatively New   \n",
       "13       4.0      3+       3.0  North-East  Relatively New   \n",
       "19       2.0       1       2.0        West    Old Property   \n",
       "25       2.0      3+       1.0         NaN    Old Property   \n",
       "\n",
       "    super_built_up_area  built_up_area  carpet_area  study room  servant room  \\\n",
       "1                   NaN            NaN       1103.0         1.0           1.0   \n",
       "11                  NaN            NaN       1100.0         0.0           0.0   \n",
       "13                  NaN            NaN       1975.0         1.0           1.0   \n",
       "19                  NaN            NaN        661.0         0.0           0.0   \n",
       "25                  NaN            NaN       1244.0         0.0           0.0   \n",
       "\n",
       "    store room  pooja room  others  furnishing_type  luxury_score  \\\n",
       "1          0.0         0.0     0.0              0.0          38.0   \n",
       "11         0.0         0.0     0.0              0.0          52.0   \n",
       "13         0.0         0.0     0.0              2.0         174.0   \n",
       "19         0.0         0.0     1.0              1.0          49.0   \n",
       "25         0.0         0.0     0.0              0.0           0.0   \n",
       "\n",
       "    area_room_ratio  \n",
       "1            552.50  \n",
       "11           550.00  \n",
       "13           493.75  \n",
       "19           330.50  \n",
       "25           311.00  "
      ]
     },
     "execution_count": 26,
     "metadata": {},
     "output_type": "execute_result"
    }
   ],
   "source": [
    "c_df.head()"
   ]
  },
  {
   "cell_type": "code",
   "execution_count": 27,
   "id": "80fe036d",
   "metadata": {
    "ExecuteTime": {
     "end_time": "2024-04-09T13:25:20.563992Z",
     "start_time": "2024-04-09T13:25:20.555499Z"
    }
   },
   "outputs": [
    {
     "name": "stderr",
     "output_type": "stream",
     "text": [
      "C:\\Users\\Acer\\AppData\\Local\\Temp\\ipykernel_13924\\2136919732.py:1: SettingWithCopyWarning: \n",
      "A value is trying to be set on a copy of a slice from a DataFrame\n",
      "\n",
      "See the caveats in the documentation: https://pandas.pydata.org/pandas-docs/stable/user_guide/indexing.html#returning-a-view-versus-a-copy\n",
      "  c_df['built_up_area'].fillna(round(c_df['carpet_area']/0.9),inplace=True)\n"
     ]
    }
   ],
   "source": [
    "c_df['built_up_area'].fillna(round(c_df['carpet_area']/0.9),inplace=True)"
   ]
  },
  {
   "cell_type": "code",
   "execution_count": 28,
   "id": "6998a704",
   "metadata": {
    "ExecuteTime": {
     "end_time": "2024-04-09T13:25:22.580167Z",
     "start_time": "2024-04-09T13:25:22.557260Z"
    }
   },
   "outputs": [],
   "source": [
    "df.update(c_df)"
   ]
  },
  {
   "cell_type": "code",
   "execution_count": 29,
   "id": "e7bf32dd",
   "metadata": {
    "ExecuteTime": {
     "end_time": "2024-04-09T13:25:25.081200Z",
     "start_time": "2024-04-09T13:25:25.066516Z"
    }
   },
   "outputs": [
    {
     "data": {
      "text/plain": [
       "property_type             0\n",
       "society                   1\n",
       "sector                    0\n",
       "price                     0\n",
       "price_per_sqft            0\n",
       "area                      0\n",
       "areaWithType              0\n",
       "bedRoom                   0\n",
       "bathroom                  0\n",
       "balcony                   0\n",
       "floorNum                 17\n",
       "facing                 1011\n",
       "agePossession             0\n",
       "super_built_up_area    1680\n",
       "built_up_area             0\n",
       "carpet_area            1715\n",
       "study room                0\n",
       "servant room              0\n",
       "store room                0\n",
       "pooja room                0\n",
       "others                    0\n",
       "furnishing_type           0\n",
       "luxury_score              0\n",
       "area_room_ratio           0\n",
       "dtype: int64"
      ]
     },
     "execution_count": 29,
     "metadata": {},
     "output_type": "execute_result"
    }
   ],
   "source": [
    "df.isnull().sum()"
   ]
  },
  {
   "cell_type": "code",
   "execution_count": 31,
   "id": "e8b2f41c",
   "metadata": {
    "ExecuteTime": {
     "end_time": "2024-04-09T13:25:35.994394Z",
     "start_time": "2024-04-09T13:25:35.493107Z"
    }
   },
   "outputs": [
    {
     "data": {
      "text/plain": [
       "<Axes: xlabel='built_up_area', ylabel='price'>"
      ]
     },
     "execution_count": 31,
     "metadata": {},
     "output_type": "execute_result"
    },
    {
     "data": {
      "image/png": "[encoded data removed]",
      "text/plain": [
       "<Figure size 640x480 with 1 Axes>"
      ]
     },
     "metadata": {},
     "output_type": "display_data"
    }
   ],
   "source": [
    "sns.scatterplot(x=df['built_up_area'],y=df['price'])"
   ]
  },
  {
   "cell_type": "code",
   "execution_count": 32,
   "id": "8317cdda",
   "metadata": {
    "ExecuteTime": {
     "end_time": "2024-04-09T13:25:39.727227Z",
     "start_time": "2024-04-09T13:25:39.714978Z"
    }
   },
   "outputs": [],
   "source": [
    "anamoly_df = df[(df['built_up_area'] < 2000) & (df['price'] > 2.5)][['price','area','built_up_area']]"
   ]
  },
  {
   "cell_type": "code",
   "execution_count": 33,
   "id": "3ff9da49",
   "metadata": {
    "ExecuteTime": {
     "end_time": "2024-04-09T13:25:41.049655Z",
     "start_time": "2024-04-09T13:25:41.031344Z"
    }
   },
   "outputs": [
    {
     "data": {
      "text/html": [
       "<div>\n",
       "<style scoped>\n",
       "    .dataframe tbody tr th:only-of-type {\n",
       "        vertical-align: middle;\n",
       "    }\n",
       "\n",
       "    .dataframe tbody tr th {\n",
       "        vertical-align: top;\n",
       "    }\n",
       "\n",
       "    .dataframe thead th {\n",
       "        text-align: right;\n",
       "    }\n",
       "</style>\n",
       "<table border=\"1\" class=\"dataframe\">\n",
       "  <thead>\n",
       "    <tr style=\"text-align: right;\">\n",
       "      <th></th>\n",
       "      <th>price</th>\n",
       "      <th>area</th>\n",
       "      <th>built_up_area</th>\n",
       "    </tr>\n",
       "  </thead>\n",
       "  <tbody>\n",
       "    <tr>\n",
       "      <th>1045</th>\n",
       "      <td>4.30</td>\n",
       "      <td>1467.0</td>\n",
       "      <td>1467.0</td>\n",
       "    </tr>\n",
       "    <tr>\n",
       "      <th>3073</th>\n",
       "      <td>6.15</td>\n",
       "      <td>2250.0</td>\n",
       "      <td>270.0</td>\n",
       "    </tr>\n",
       "    <tr>\n",
       "      <th>983</th>\n",
       "      <td>3.40</td>\n",
       "      <td>1530.0</td>\n",
       "      <td>1530.0</td>\n",
       "    </tr>\n",
       "    <tr>\n",
       "      <th>1186</th>\n",
       "      <td>2.85</td>\n",
       "      <td>1950.0</td>\n",
       "      <td>1920.0</td>\n",
       "    </tr>\n",
       "    <tr>\n",
       "      <th>2042</th>\n",
       "      <td>2.55</td>\n",
       "      <td>1557.0</td>\n",
       "      <td>1557.0</td>\n",
       "    </tr>\n",
       "  </tbody>\n",
       "</table>\n",
       "</div>"
      ],
      "text/plain": [
       "      price    area  built_up_area\n",
       "1045   4.30  1467.0         1467.0\n",
       "3073   6.15  2250.0          270.0\n",
       "983    3.40  1530.0         1530.0\n",
       "1186   2.85  1950.0         1920.0\n",
       "2042   2.55  1557.0         1557.0"
      ]
     },
     "execution_count": 33,
     "metadata": {},
     "output_type": "execute_result"
    }
   ],
   "source": [
    "anamoly_df.sample(5)"
   ]
  },
  {
   "cell_type": "code",
   "execution_count": 34,
   "id": "5465a09d",
   "metadata": {
    "ExecuteTime": {
     "end_time": "2024-04-09T13:25:45.616957Z",
     "start_time": "2024-04-09T13:25:45.609798Z"
    }
   },
   "outputs": [],
   "source": [
    "anamoly_df['built_up_area'] = anamoly_df['area']"
   ]
  },
  {
   "cell_type": "code",
   "execution_count": 35,
   "id": "5eef79a3",
   "metadata": {
    "ExecuteTime": {
     "end_time": "2024-04-09T13:25:49.440253Z",
     "start_time": "2024-04-09T13:25:49.431013Z"
    }
   },
   "outputs": [],
   "source": [
    "df.update(anamoly_df)"
   ]
  },
  {
   "cell_type": "code",
   "execution_count": 37,
   "id": "96f4e6b7",
   "metadata": {
    "ExecuteTime": {
     "end_time": "2024-04-09T13:25:57.751671Z",
     "start_time": "2024-04-09T13:25:57.279967Z"
    }
   },
   "outputs": [
    {
     "data": {
      "text/plain": [
       "<Axes: xlabel='built_up_area', ylabel='price'>"
      ]
     },
     "execution_count": 37,
     "metadata": {},
     "output_type": "execute_result"
    },
    {
     "data": {
      "image/png": "[encoded data removed]",
      "text/plain": [
       "<Figure size 640x480 with 1 Axes>"
      ]
     },
     "metadata": {},
     "output_type": "display_data"
    }
   ],
   "source": [
    "sns.scatterplot(x=df['built_up_area'],y=df['price'])"
   ]
  },
  {
   "cell_type": "code",
   "execution_count": 38,
   "id": "5d2809b7",
   "metadata": {
    "ExecuteTime": {
     "end_time": "2024-04-09T13:26:01.401750Z",
     "start_time": "2024-04-09T13:26:01.391840Z"
    }
   },
   "outputs": [],
   "source": [
    "df.drop(columns=['area','areaWithType','super_built_up_area','carpet_area','area_room_ratio'],inplace=True)"
   ]
  },
  {
   "cell_type": "code",
   "execution_count": 39,
   "id": "53303463",
   "metadata": {
    "ExecuteTime": {
     "end_time": "2024-04-09T13:26:02.530098Z",
     "start_time": "2024-04-09T13:26:02.478989Z"
    }
   },
   "outputs": [
    {
     "data": {
      "text/html": [
       "<div>\n",
       "<style scoped>\n",
       "    .dataframe tbody tr th:only-of-type {\n",
       "        vertical-align: middle;\n",
       "    }\n",
       "\n",
       "    .dataframe tbody tr th {\n",
       "        vertical-align: top;\n",
       "    }\n",
       "\n",
       "    .dataframe thead th {\n",
       "        text-align: right;\n",
       "    }\n",
       "</style>\n",
       "<table border=\"1\" class=\"dataframe\">\n",
       "  <thead>\n",
       "    <tr style=\"text-align: right;\">\n",
       "      <th></th>\n",
       "      <th>property_type</th>\n",
       "      <th>society</th>\n",
       "      <th>sector</th>\n",
       "      <th>price</th>\n",
       "      <th>price_per_sqft</th>\n",
       "      <th>bedRoom</th>\n",
       "      <th>bathroom</th>\n",
       "      <th>balcony</th>\n",
       "      <th>floorNum</th>\n",
       "      <th>facing</th>\n",
       "      <th>agePossession</th>\n",
       "      <th>built_up_area</th>\n",
       "      <th>study room</th>\n",
       "      <th>servant room</th>\n",
       "      <th>store room</th>\n",
       "      <th>pooja room</th>\n",
       "      <th>others</th>\n",
       "      <th>furnishing_type</th>\n",
       "      <th>luxury_score</th>\n",
       "    </tr>\n",
       "  </thead>\n",
       "  <tbody>\n",
       "    <tr>\n",
       "      <th>0</th>\n",
       "      <td>flat</td>\n",
       "      <td>signature global park 4</td>\n",
       "      <td>sector 36</td>\n",
       "      <td>0.82</td>\n",
       "      <td>7586.0</td>\n",
       "      <td>3.0</td>\n",
       "      <td>2.0</td>\n",
       "      <td>2</td>\n",
       "      <td>2.0</td>\n",
       "      <td>NaN</td>\n",
       "      <td>New Property</td>\n",
       "      <td>850.0</td>\n",
       "      <td>0.0</td>\n",
       "      <td>0.0</td>\n",
       "      <td>0.0</td>\n",
       "      <td>0.0</td>\n",
       "      <td>0.0</td>\n",
       "      <td>0.0</td>\n",
       "      <td>8.0</td>\n",
       "    </tr>\n",
       "    <tr>\n",
       "      <th>1</th>\n",
       "      <td>flat</td>\n",
       "      <td>smart world gems</td>\n",
       "      <td>sector 89</td>\n",
       "      <td>0.95</td>\n",
       "      <td>8597.0</td>\n",
       "      <td>2.0</td>\n",
       "      <td>2.0</td>\n",
       "      <td>2</td>\n",
       "      <td>4.0</td>\n",
       "      <td>NaN</td>\n",
       "      <td>New Property</td>\n",
       "      <td>1226.0</td>\n",
       "      <td>1.0</td>\n",
       "      <td>1.0</td>\n",
       "      <td>0.0</td>\n",
       "      <td>0.0</td>\n",
       "      <td>0.0</td>\n",
       "      <td>0.0</td>\n",
       "      <td>38.0</td>\n",
       "    </tr>\n",
       "    <tr>\n",
       "      <th>2</th>\n",
       "      <td>flat</td>\n",
       "      <td>breez global hill view</td>\n",
       "      <td>sohna road</td>\n",
       "      <td>0.32</td>\n",
       "      <td>5470.0</td>\n",
       "      <td>2.0</td>\n",
       "      <td>2.0</td>\n",
       "      <td>1</td>\n",
       "      <td>17.0</td>\n",
       "      <td>NaN</td>\n",
       "      <td>New Property</td>\n",
       "      <td>1000.0</td>\n",
       "      <td>0.0</td>\n",
       "      <td>0.0</td>\n",
       "      <td>0.0</td>\n",
       "      <td>0.0</td>\n",
       "      <td>0.0</td>\n",
       "      <td>0.0</td>\n",
       "      <td>49.0</td>\n",
       "    </tr>\n",
       "    <tr>\n",
       "      <th>3</th>\n",
       "      <td>flat</td>\n",
       "      <td>bestech park view sanskruti</td>\n",
       "      <td>sector 92</td>\n",
       "      <td>1.60</td>\n",
       "      <td>8020.0</td>\n",
       "      <td>3.0</td>\n",
       "      <td>4.0</td>\n",
       "      <td>3+</td>\n",
       "      <td>10.0</td>\n",
       "      <td>North-West</td>\n",
       "      <td>Relatively New</td>\n",
       "      <td>1615.0</td>\n",
       "      <td>0.0</td>\n",
       "      <td>1.0</td>\n",
       "      <td>0.0</td>\n",
       "      <td>0.0</td>\n",
       "      <td>1.0</td>\n",
       "      <td>1.0</td>\n",
       "      <td>174.0</td>\n",
       "    </tr>\n",
       "    <tr>\n",
       "      <th>4</th>\n",
       "      <td>flat</td>\n",
       "      <td>suncity avenue</td>\n",
       "      <td>sector 102</td>\n",
       "      <td>0.48</td>\n",
       "      <td>9023.0</td>\n",
       "      <td>2.0</td>\n",
       "      <td>2.0</td>\n",
       "      <td>1</td>\n",
       "      <td>5.0</td>\n",
       "      <td>North-East</td>\n",
       "      <td>Relatively New</td>\n",
       "      <td>582.0</td>\n",
       "      <td>0.0</td>\n",
       "      <td>0.0</td>\n",
       "      <td>1.0</td>\n",
       "      <td>0.0</td>\n",
       "      <td>0.0</td>\n",
       "      <td>0.0</td>\n",
       "      <td>159.0</td>\n",
       "    </tr>\n",
       "  </tbody>\n",
       "</table>\n",
       "</div>"
      ],
      "text/plain": [
       "  property_type                      society      sector  price  \\\n",
       "0          flat      signature global park 4   sector 36   0.82   \n",
       "1          flat             smart world gems   sector 89   0.95   \n",
       "2          flat       breez global hill view  sohna road   0.32   \n",
       "3          flat  bestech park view sanskruti   sector 92   1.60   \n",
       "4          flat               suncity avenue  sector 102   0.48   \n",
       "\n",
       "   price_per_sqft  bedRoom  bathroom balcony  floorNum      facing  \\\n",
       "0          7586.0      3.0       2.0       2       2.0         NaN   \n",
       "1          8597.0      2.0       2.0       2       4.0         NaN   \n",
       "2          5470.0      2.0       2.0       1      17.0         NaN   \n",
       "3          8020.0      3.0       4.0      3+      10.0  North-West   \n",
       "4          9023.0      2.0       2.0       1       5.0  North-East   \n",
       "\n",
       "    agePossession  built_up_area  study room  servant room  store room  \\\n",
       "0    New Property          850.0         0.0           0.0         0.0   \n",
       "1    New Property         1226.0         1.0           1.0         0.0   \n",
       "2    New Property         1000.0         0.0           0.0         0.0   \n",
       "3  Relatively New         1615.0         0.0           1.0         0.0   \n",
       "4  Relatively New          582.0         0.0           0.0         1.0   \n",
       "\n",
       "   pooja room  others  furnishing_type  luxury_score  \n",
       "0         0.0     0.0              0.0           8.0  \n",
       "1         0.0     0.0              0.0          38.0  \n",
       "2         0.0     0.0              0.0          49.0  \n",
       "3         0.0     1.0              1.0         174.0  \n",
       "4         0.0     0.0              0.0         159.0  "
      ]
     },
     "execution_count": 39,
     "metadata": {},
     "output_type": "execute_result"
    }
   ],
   "source": [
    "df.head()"
   ]
  },
  {
   "cell_type": "code",
   "execution_count": 40,
   "id": "126fe67e",
   "metadata": {
    "ExecuteTime": {
     "end_time": "2024-04-09T13:26:06.217012Z",
     "start_time": "2024-04-09T13:26:06.202373Z"
    }
   },
   "outputs": [
    {
     "data": {
      "text/plain": [
       "property_type         0\n",
       "society               1\n",
       "sector                0\n",
       "price                 0\n",
       "price_per_sqft        0\n",
       "bedRoom               0\n",
       "bathroom              0\n",
       "balcony               0\n",
       "floorNum             17\n",
       "facing             1011\n",
       "agePossession         0\n",
       "built_up_area         0\n",
       "study room            0\n",
       "servant room          0\n",
       "store room            0\n",
       "pooja room            0\n",
       "others                0\n",
       "furnishing_type       0\n",
       "luxury_score          0\n",
       "dtype: int64"
      ]
     },
     "execution_count": 40,
     "metadata": {},
     "output_type": "execute_result"
    }
   ],
   "source": [
    "df.isnull().sum()"
   ]
  },
  {
   "cell_type": "markdown",
   "id": "98eb3827",
   "metadata": {},
   "source": [
    "### floorNum"
   ]
  },
  {
   "cell_type": "code",
   "execution_count": 41,
   "id": "cff5d9ed",
   "metadata": {
    "ExecuteTime": {
     "end_time": "2024-04-09T13:26:08.527152Z",
     "start_time": "2024-04-09T13:26:08.450196Z"
    }
   },
   "outputs": [
    {
     "data": {
      "text/html": [
       "<div>\n",
       "<style scoped>\n",
       "    .dataframe tbody tr th:only-of-type {\n",
       "        vertical-align: middle;\n",
       "    }\n",
       "\n",
       "    .dataframe tbody tr th {\n",
       "        vertical-align: top;\n",
       "    }\n",
       "\n",
       "    .dataframe thead th {\n",
       "        text-align: right;\n",
       "    }\n",
       "</style>\n",
       "<table border=\"1\" class=\"dataframe\">\n",
       "  <thead>\n",
       "    <tr style=\"text-align: right;\">\n",
       "      <th></th>\n",
       "      <th>property_type</th>\n",
       "      <th>society</th>\n",
       "      <th>sector</th>\n",
       "      <th>price</th>\n",
       "      <th>price_per_sqft</th>\n",
       "      <th>bedRoom</th>\n",
       "      <th>bathroom</th>\n",
       "      <th>balcony</th>\n",
       "      <th>floorNum</th>\n",
       "      <th>facing</th>\n",
       "      <th>agePossession</th>\n",
       "      <th>built_up_area</th>\n",
       "      <th>study room</th>\n",
       "      <th>servant room</th>\n",
       "      <th>store room</th>\n",
       "      <th>pooja room</th>\n",
       "      <th>others</th>\n",
       "      <th>furnishing_type</th>\n",
       "      <th>luxury_score</th>\n",
       "    </tr>\n",
       "  </thead>\n",
       "  <tbody>\n",
       "    <tr>\n",
       "      <th>500</th>\n",
       "      <td>house</td>\n",
       "      <td>independent</td>\n",
       "      <td>sector 4</td>\n",
       "      <td>0.65</td>\n",
       "      <td>11111.0</td>\n",
       "      <td>4.0</td>\n",
       "      <td>2.0</td>\n",
       "      <td>2</td>\n",
       "      <td>NaN</td>\n",
       "      <td>NaN</td>\n",
       "      <td>Moderately Old</td>\n",
       "      <td>585.0</td>\n",
       "      <td>0.0</td>\n",
       "      <td>0.0</td>\n",
       "      <td>0.0</td>\n",
       "      <td>0.0</td>\n",
       "      <td>0.0</td>\n",
       "      <td>0.0</td>\n",
       "      <td>0.0</td>\n",
       "    </tr>\n",
       "    <tr>\n",
       "      <th>767</th>\n",
       "      <td>house</td>\n",
       "      <td>independent</td>\n",
       "      <td>sector 7</td>\n",
       "      <td>6.50</td>\n",
       "      <td>15046.0</td>\n",
       "      <td>3.0</td>\n",
       "      <td>2.0</td>\n",
       "      <td>3+</td>\n",
       "      <td>NaN</td>\n",
       "      <td>NaN</td>\n",
       "      <td>Old Property</td>\n",
       "      <td>4320.0</td>\n",
       "      <td>0.0</td>\n",
       "      <td>0.0</td>\n",
       "      <td>0.0</td>\n",
       "      <td>0.0</td>\n",
       "      <td>0.0</td>\n",
       "      <td>0.0</td>\n",
       "      <td>9.0</td>\n",
       "    </tr>\n",
       "    <tr>\n",
       "      <th>1294</th>\n",
       "      <td>house</td>\n",
       "      <td>independent</td>\n",
       "      <td>sector 3</td>\n",
       "      <td>1.50</td>\n",
       "      <td>10288.0</td>\n",
       "      <td>3.0</td>\n",
       "      <td>3.0</td>\n",
       "      <td>0</td>\n",
       "      <td>NaN</td>\n",
       "      <td>NaN</td>\n",
       "      <td>Old Property</td>\n",
       "      <td>210.0</td>\n",
       "      <td>0.0</td>\n",
       "      <td>0.0</td>\n",
       "      <td>0.0</td>\n",
       "      <td>0.0</td>\n",
       "      <td>0.0</td>\n",
       "      <td>0.0</td>\n",
       "      <td>0.0</td>\n",
       "    </tr>\n",
       "    <tr>\n",
       "      <th>1452</th>\n",
       "      <td>house</td>\n",
       "      <td>vipul tatvam villa</td>\n",
       "      <td>sector 48</td>\n",
       "      <td>8.50</td>\n",
       "      <td>26235.0</td>\n",
       "      <td>4.0</td>\n",
       "      <td>4.0</td>\n",
       "      <td>1</td>\n",
       "      <td>NaN</td>\n",
       "      <td>NaN</td>\n",
       "      <td>Relatively New</td>\n",
       "      <td>3240.0</td>\n",
       "      <td>0.0</td>\n",
       "      <td>0.0</td>\n",
       "      <td>0.0</td>\n",
       "      <td>0.0</td>\n",
       "      <td>0.0</td>\n",
       "      <td>0.0</td>\n",
       "      <td>21.0</td>\n",
       "    </tr>\n",
       "    <tr>\n",
       "      <th>1465</th>\n",
       "      <td>house</td>\n",
       "      <td>ansal sushant lok plots</td>\n",
       "      <td>sector 43</td>\n",
       "      <td>3.30</td>\n",
       "      <td>26570.0</td>\n",
       "      <td>1.0</td>\n",
       "      <td>1.0</td>\n",
       "      <td>0</td>\n",
       "      <td>NaN</td>\n",
       "      <td>NaN</td>\n",
       "      <td>Under Construction</td>\n",
       "      <td>1242.0</td>\n",
       "      <td>0.0</td>\n",
       "      <td>0.0</td>\n",
       "      <td>0.0</td>\n",
       "      <td>0.0</td>\n",
       "      <td>0.0</td>\n",
       "      <td>0.0</td>\n",
       "      <td>0.0</td>\n",
       "    </tr>\n",
       "    <tr>\n",
       "      <th>1946</th>\n",
       "      <td>house</td>\n",
       "      <td>jacob pura</td>\n",
       "      <td>sector 12</td>\n",
       "      <td>0.35</td>\n",
       "      <td>9722.0</td>\n",
       "      <td>2.0</td>\n",
       "      <td>1.0</td>\n",
       "      <td>0</td>\n",
       "      <td>NaN</td>\n",
       "      <td>NaN</td>\n",
       "      <td>Old Property</td>\n",
       "      <td>360.0</td>\n",
       "      <td>0.0</td>\n",
       "      <td>0.0</td>\n",
       "      <td>0.0</td>\n",
       "      <td>0.0</td>\n",
       "      <td>0.0</td>\n",
       "      <td>0.0</td>\n",
       "      <td>0.0</td>\n",
       "    </tr>\n",
       "    <tr>\n",
       "      <th>2048</th>\n",
       "      <td>house</td>\n",
       "      <td>vipul tatvam villa</td>\n",
       "      <td>sector 48</td>\n",
       "      <td>8.50</td>\n",
       "      <td>26235.0</td>\n",
       "      <td>4.0</td>\n",
       "      <td>4.0</td>\n",
       "      <td>2</td>\n",
       "      <td>NaN</td>\n",
       "      <td>East</td>\n",
       "      <td>Moderately Old</td>\n",
       "      <td>3240.0</td>\n",
       "      <td>0.0</td>\n",
       "      <td>1.0</td>\n",
       "      <td>1.0</td>\n",
       "      <td>1.0</td>\n",
       "      <td>0.0</td>\n",
       "      <td>0.0</td>\n",
       "      <td>88.0</td>\n",
       "    </tr>\n",
       "    <tr>\n",
       "      <th>2157</th>\n",
       "      <td>house</td>\n",
       "      <td>independent</td>\n",
       "      <td>sector 4</td>\n",
       "      <td>4.12</td>\n",
       "      <td>8889.0</td>\n",
       "      <td>2.0</td>\n",
       "      <td>1.0</td>\n",
       "      <td>3+</td>\n",
       "      <td>NaN</td>\n",
       "      <td>NaN</td>\n",
       "      <td>Moderately Old</td>\n",
       "      <td>4635.0</td>\n",
       "      <td>0.0</td>\n",
       "      <td>0.0</td>\n",
       "      <td>0.0</td>\n",
       "      <td>0.0</td>\n",
       "      <td>0.0</td>\n",
       "      <td>0.0</td>\n",
       "      <td>0.0</td>\n",
       "    </tr>\n",
       "    <tr>\n",
       "      <th>2271</th>\n",
       "      <td>house</td>\n",
       "      <td>emaar mgf marbella</td>\n",
       "      <td>sector 66</td>\n",
       "      <td>9.00</td>\n",
       "      <td>21251.0</td>\n",
       "      <td>4.0</td>\n",
       "      <td>4.0</td>\n",
       "      <td>3+</td>\n",
       "      <td>NaN</td>\n",
       "      <td>South-West</td>\n",
       "      <td>Relatively New</td>\n",
       "      <td>5200.0</td>\n",
       "      <td>0.0</td>\n",
       "      <td>1.0</td>\n",
       "      <td>1.0</td>\n",
       "      <td>1.0</td>\n",
       "      <td>0.0</td>\n",
       "      <td>1.0</td>\n",
       "      <td>114.0</td>\n",
       "    </tr>\n",
       "    <tr>\n",
       "      <th>2439</th>\n",
       "      <td>house</td>\n",
       "      <td>dlf new town heights</td>\n",
       "      <td>sector 86</td>\n",
       "      <td>2.47</td>\n",
       "      <td>7719.0</td>\n",
       "      <td>4.0</td>\n",
       "      <td>4.0</td>\n",
       "      <td>3+</td>\n",
       "      <td>NaN</td>\n",
       "      <td>West</td>\n",
       "      <td>Moderately Old</td>\n",
       "      <td>2800.0</td>\n",
       "      <td>0.0</td>\n",
       "      <td>1.0</td>\n",
       "      <td>0.0</td>\n",
       "      <td>1.0</td>\n",
       "      <td>0.0</td>\n",
       "      <td>1.0</td>\n",
       "      <td>130.0</td>\n",
       "    </tr>\n",
       "    <tr>\n",
       "      <th>2536</th>\n",
       "      <td>flat</td>\n",
       "      <td>NaN</td>\n",
       "      <td>sector 78</td>\n",
       "      <td>0.60</td>\n",
       "      <td>3692.0</td>\n",
       "      <td>2.0</td>\n",
       "      <td>2.0</td>\n",
       "      <td>0</td>\n",
       "      <td>NaN</td>\n",
       "      <td>NaN</td>\n",
       "      <td>Under Construction</td>\n",
       "      <td>1625.0</td>\n",
       "      <td>0.0</td>\n",
       "      <td>0.0</td>\n",
       "      <td>0.0</td>\n",
       "      <td>0.0</td>\n",
       "      <td>0.0</td>\n",
       "      <td>0.0</td>\n",
       "      <td>0.0</td>\n",
       "    </tr>\n",
       "    <tr>\n",
       "      <th>2545</th>\n",
       "      <td>house</td>\n",
       "      <td>ansal sushant lok</td>\n",
       "      <td>sector 43</td>\n",
       "      <td>10.50</td>\n",
       "      <td>27911.0</td>\n",
       "      <td>4.0</td>\n",
       "      <td>4.0</td>\n",
       "      <td>2</td>\n",
       "      <td>NaN</td>\n",
       "      <td>North-East</td>\n",
       "      <td>Old Property</td>\n",
       "      <td>3762.0</td>\n",
       "      <td>0.0</td>\n",
       "      <td>1.0</td>\n",
       "      <td>0.0</td>\n",
       "      <td>0.0</td>\n",
       "      <td>0.0</td>\n",
       "      <td>0.0</td>\n",
       "      <td>59.0</td>\n",
       "    </tr>\n",
       "    <tr>\n",
       "      <th>2918</th>\n",
       "      <td>house</td>\n",
       "      <td>independent</td>\n",
       "      <td>sector 25</td>\n",
       "      <td>13.00</td>\n",
       "      <td>45710.0</td>\n",
       "      <td>6.0</td>\n",
       "      <td>8.0</td>\n",
       "      <td>3+</td>\n",
       "      <td>NaN</td>\n",
       "      <td>NaN</td>\n",
       "      <td>Relatively New</td>\n",
       "      <td>2844.0</td>\n",
       "      <td>1.0</td>\n",
       "      <td>1.0</td>\n",
       "      <td>1.0</td>\n",
       "      <td>1.0</td>\n",
       "      <td>0.0</td>\n",
       "      <td>2.0</td>\n",
       "      <td>0.0</td>\n",
       "    </tr>\n",
       "    <tr>\n",
       "      <th>2967</th>\n",
       "      <td>house</td>\n",
       "      <td>independent</td>\n",
       "      <td>sector 24</td>\n",
       "      <td>1.45</td>\n",
       "      <td>2984.0</td>\n",
       "      <td>3.0</td>\n",
       "      <td>3.0</td>\n",
       "      <td>1</td>\n",
       "      <td>NaN</td>\n",
       "      <td>NaN</td>\n",
       "      <td>Old Property</td>\n",
       "      <td>540.0</td>\n",
       "      <td>0.0</td>\n",
       "      <td>0.0</td>\n",
       "      <td>0.0</td>\n",
       "      <td>0.0</td>\n",
       "      <td>0.0</td>\n",
       "      <td>0.0</td>\n",
       "      <td>9.0</td>\n",
       "    </tr>\n",
       "    <tr>\n",
       "      <th>3120</th>\n",
       "      <td>house</td>\n",
       "      <td>independent</td>\n",
       "      <td>sector 26</td>\n",
       "      <td>4.60</td>\n",
       "      <td>12198.0</td>\n",
       "      <td>4.0</td>\n",
       "      <td>4.0</td>\n",
       "      <td>3+</td>\n",
       "      <td>NaN</td>\n",
       "      <td>NaN</td>\n",
       "      <td>Old Property</td>\n",
       "      <td>3771.0</td>\n",
       "      <td>0.0</td>\n",
       "      <td>0.0</td>\n",
       "      <td>0.0</td>\n",
       "      <td>0.0</td>\n",
       "      <td>0.0</td>\n",
       "      <td>0.0</td>\n",
       "      <td>28.0</td>\n",
       "    </tr>\n",
       "    <tr>\n",
       "      <th>3214</th>\n",
       "      <td>flat</td>\n",
       "      <td>experion heartsong</td>\n",
       "      <td>dwarka expressway</td>\n",
       "      <td>1.08</td>\n",
       "      <td>6150.0</td>\n",
       "      <td>3.0</td>\n",
       "      <td>3.0</td>\n",
       "      <td>0</td>\n",
       "      <td>NaN</td>\n",
       "      <td>NaN</td>\n",
       "      <td>Under Construction</td>\n",
       "      <td>1758.0</td>\n",
       "      <td>0.0</td>\n",
       "      <td>0.0</td>\n",
       "      <td>0.0</td>\n",
       "      <td>0.0</td>\n",
       "      <td>0.0</td>\n",
       "      <td>0.0</td>\n",
       "      <td>0.0</td>\n",
       "    </tr>\n",
       "    <tr>\n",
       "      <th>3255</th>\n",
       "      <td>house</td>\n",
       "      <td>independent</td>\n",
       "      <td>sector 2</td>\n",
       "      <td>5.60</td>\n",
       "      <td>17284.0</td>\n",
       "      <td>8.0</td>\n",
       "      <td>6.0</td>\n",
       "      <td>3+</td>\n",
       "      <td>NaN</td>\n",
       "      <td>South-West</td>\n",
       "      <td>Moderately Old</td>\n",
       "      <td>3240.0</td>\n",
       "      <td>1.0</td>\n",
       "      <td>1.0</td>\n",
       "      <td>1.0</td>\n",
       "      <td>1.0</td>\n",
       "      <td>0.0</td>\n",
       "      <td>0.0</td>\n",
       "      <td>0.0</td>\n",
       "    </tr>\n",
       "  </tbody>\n",
       "</table>\n",
       "</div>"
      ],
      "text/plain": [
       "     property_type                  society             sector  price  \\\n",
       "500          house              independent           sector 4   0.65   \n",
       "767          house              independent           sector 7   6.50   \n",
       "1294         house              independent           sector 3   1.50   \n",
       "1452         house       vipul tatvam villa          sector 48   8.50   \n",
       "1465         house  ansal sushant lok plots          sector 43   3.30   \n",
       "1946         house               jacob pura          sector 12   0.35   \n",
       "2048         house       vipul tatvam villa          sector 48   8.50   \n",
       "2157         house              independent           sector 4   4.12   \n",
       "2271         house       emaar mgf marbella          sector 66   9.00   \n",
       "2439         house     dlf new town heights          sector 86   2.47   \n",
       "2536          flat                      NaN          sector 78   0.60   \n",
       "2545         house        ansal sushant lok          sector 43  10.50   \n",
       "2918         house              independent          sector 25  13.00   \n",
       "2967         house              independent          sector 24   1.45   \n",
       "3120         house              independent          sector 26   4.60   \n",
       "3214          flat       experion heartsong  dwarka expressway   1.08   \n",
       "3255         house              independent           sector 2   5.60   \n",
       "\n",
       "      price_per_sqft  bedRoom  bathroom balcony  floorNum      facing  \\\n",
       "500          11111.0      4.0       2.0       2       NaN         NaN   \n",
       "767          15046.0      3.0       2.0      3+       NaN         NaN   \n",
       "1294         10288.0      3.0       3.0       0       NaN         NaN   \n",
       "1452         26235.0      4.0       4.0       1       NaN         NaN   \n",
       "1465         26570.0      1.0       1.0       0       NaN         NaN   \n",
       "1946          9722.0      2.0       1.0       0       NaN         NaN   \n",
       "2048         26235.0      4.0       4.0       2       NaN        East   \n",
       "2157          8889.0      2.0       1.0      3+       NaN         NaN   \n",
       "2271         21251.0      4.0       4.0      3+       NaN  South-West   \n",
       "2439          7719.0      4.0       4.0      3+       NaN        West   \n",
       "2536          3692.0      2.0       2.0       0       NaN         NaN   \n",
       "2545         27911.0      4.0       4.0       2       NaN  North-East   \n",
       "2918         45710.0      6.0       8.0      3+       NaN         NaN   \n",
       "2967          2984.0      3.0       3.0       1       NaN         NaN   \n",
       "3120         12198.0      4.0       4.0      3+       NaN         NaN   \n",
       "3214          6150.0      3.0       3.0       0       NaN         NaN   \n",
       "3255         17284.0      8.0       6.0      3+       NaN  South-West   \n",
       "\n",
       "           agePossession  built_up_area  study room  servant room  store room  \\\n",
       "500       Moderately Old          585.0         0.0           0.0         0.0   \n",
       "767         Old Property         4320.0         0.0           0.0         0.0   \n",
       "1294        Old Property          210.0         0.0           0.0         0.0   \n",
       "1452      Relatively New         3240.0         0.0           0.0         0.0   \n",
       "1465  Under Construction         1242.0         0.0           0.0         0.0   \n",
       "1946        Old Property          360.0         0.0           0.0         0.0   \n",
       "2048      Moderately Old         3240.0         0.0           1.0         1.0   \n",
       "2157      Moderately Old         4635.0         0.0           0.0         0.0   \n",
       "2271      Relatively New         5200.0         0.0           1.0         1.0   \n",
       "2439      Moderately Old         2800.0         0.0           1.0         0.0   \n",
       "2536  Under Construction         1625.0         0.0           0.0         0.0   \n",
       "2545        Old Property         3762.0         0.0           1.0         0.0   \n",
       "2918      Relatively New         2844.0         1.0           1.0         1.0   \n",
       "2967        Old Property          540.0         0.0           0.0         0.0   \n",
       "3120        Old Property         3771.0         0.0           0.0         0.0   \n",
       "3214  Under Construction         1758.0         0.0           0.0         0.0   \n",
       "3255      Moderately Old         3240.0         1.0           1.0         1.0   \n",
       "\n",
       "      pooja room  others  furnishing_type  luxury_score  \n",
       "500          0.0     0.0              0.0           0.0  \n",
       "767          0.0     0.0              0.0           9.0  \n",
       "1294         0.0     0.0              0.0           0.0  \n",
       "1452         0.0     0.0              0.0          21.0  \n",
       "1465         0.0     0.0              0.0           0.0  \n",
       "1946         0.0     0.0              0.0           0.0  \n",
       "2048         1.0     0.0              0.0          88.0  \n",
       "2157         0.0     0.0              0.0           0.0  \n",
       "2271         1.0     0.0              1.0         114.0  \n",
       "2439         1.0     0.0              1.0         130.0  \n",
       "2536         0.0     0.0              0.0           0.0  \n",
       "2545         0.0     0.0              0.0          59.0  \n",
       "2918         1.0     0.0              2.0           0.0  \n",
       "2967         0.0     0.0              0.0           9.0  \n",
       "3120         0.0     0.0              0.0          28.0  \n",
       "3214         0.0     0.0              0.0           0.0  \n",
       "3255         1.0     0.0              0.0           0.0  "
      ]
     },
     "execution_count": 41,
     "metadata": {},
     "output_type": "execute_result"
    }
   ],
   "source": [
    "df[df['floorNum'].isnull()]"
   ]
  },
  {
   "cell_type": "code",
   "execution_count": 42,
   "id": "7300d781",
   "metadata": {
    "ExecuteTime": {
     "end_time": "2024-04-09T13:26:14.168752Z",
     "start_time": "2024-04-09T13:26:14.156213Z"
    }
   },
   "outputs": [
    {
     "data": {
      "text/plain": [
       "2.0"
      ]
     },
     "execution_count": 42,
     "metadata": {},
     "output_type": "execute_result"
    }
   ],
   "source": [
    "df[df['property_type'] == 'house']['floorNum'].median()"
   ]
  },
  {
   "cell_type": "code",
   "execution_count": 43,
   "id": "cffd3f87",
   "metadata": {
    "ExecuteTime": {
     "end_time": "2024-04-09T13:26:16.370014Z",
     "start_time": "2024-04-09T13:26:16.362762Z"
    }
   },
   "outputs": [],
   "source": [
    "df['floorNum'].fillna(2.0,inplace=True)"
   ]
  },
  {
   "cell_type": "code",
   "execution_count": 44,
   "id": "8e60c5f9",
   "metadata": {
    "ExecuteTime": {
     "end_time": "2024-04-09T13:26:18.066072Z",
     "start_time": "2024-04-09T13:26:18.052874Z"
    }
   },
   "outputs": [
    {
     "data": {
      "text/plain": [
       "property_type         0\n",
       "society               1\n",
       "sector                0\n",
       "price                 0\n",
       "price_per_sqft        0\n",
       "bedRoom               0\n",
       "bathroom              0\n",
       "balcony               0\n",
       "floorNum              0\n",
       "facing             1011\n",
       "agePossession         0\n",
       "built_up_area         0\n",
       "study room            0\n",
       "servant room          0\n",
       "store room            0\n",
       "pooja room            0\n",
       "others                0\n",
       "furnishing_type       0\n",
       "luxury_score          0\n",
       "dtype: int64"
      ]
     },
     "execution_count": 44,
     "metadata": {},
     "output_type": "execute_result"
    }
   ],
   "source": [
    "df.isnull().sum()"
   ]
  },
  {
   "cell_type": "code",
   "execution_count": 45,
   "id": "b98245b5",
   "metadata": {
    "ExecuteTime": {
     "end_time": "2024-04-09T13:26:25.567245Z",
     "start_time": "2024-04-09T13:26:25.556789Z"
    }
   },
   "outputs": [
    {
     "data": {
      "text/plain": [
       "0.2843881856540084"
      ]
     },
     "execution_count": 45,
     "metadata": {},
     "output_type": "execute_result"
    }
   ],
   "source": [
    "1011/df.shape[0]"
   ]
  },
  {
   "cell_type": "markdown",
   "id": "86ceedef",
   "metadata": {},
   "source": [
    "### facing"
   ]
  },
  {
   "cell_type": "code",
   "execution_count": 46,
   "id": "38fca9e4",
   "metadata": {
    "ExecuteTime": {
     "end_time": "2024-04-09T13:26:29.906513Z",
     "start_time": "2024-04-09T13:26:29.421820Z"
    }
   },
   "outputs": [
    {
     "data": {
      "text/plain": [
       "<Axes: ylabel='count'>"
      ]
     },
     "execution_count": 46,
     "metadata": {},
     "output_type": "execute_result"
    },
    {
     "data": {
      "image/png": "[encoded data removed]",
      "text/plain": [
       "<Figure size 640x480 with 1 Axes>"
      ]
     },
     "metadata": {},
     "output_type": "display_data"
    }
   ],
   "source": [
    "df['facing'].value_counts().plot(kind='pie',autopct='%0.2f%%')"
   ]
  },
  {
   "cell_type": "code",
   "execution_count": 47,
   "id": "ec18155c",
   "metadata": {
    "ExecuteTime": {
     "end_time": "2024-04-09T13:26:33.495146Z",
     "start_time": "2024-04-09T13:26:33.486577Z"
    }
   },
   "outputs": [],
   "source": [
    "df.drop(columns=['facing'],inplace=True)"
   ]
  },
  {
   "cell_type": "code",
   "execution_count": 48,
   "id": "ac34ac59",
   "metadata": {
    "ExecuteTime": {
     "end_time": "2024-04-09T13:26:34.964683Z",
     "start_time": "2024-04-09T13:26:34.894847Z"
    }
   },
   "outputs": [
    {
     "data": {
      "text/html": [
       "<div>\n",
       "<style scoped>\n",
       "    .dataframe tbody tr th:only-of-type {\n",
       "        vertical-align: middle;\n",
       "    }\n",
       "\n",
       "    .dataframe tbody tr th {\n",
       "        vertical-align: top;\n",
       "    }\n",
       "\n",
       "    .dataframe thead th {\n",
       "        text-align: right;\n",
       "    }\n",
       "</style>\n",
       "<table border=\"1\" class=\"dataframe\">\n",
       "  <thead>\n",
       "    <tr style=\"text-align: right;\">\n",
       "      <th></th>\n",
       "      <th>property_type</th>\n",
       "      <th>society</th>\n",
       "      <th>sector</th>\n",
       "      <th>price</th>\n",
       "      <th>price_per_sqft</th>\n",
       "      <th>bedRoom</th>\n",
       "      <th>bathroom</th>\n",
       "      <th>balcony</th>\n",
       "      <th>floorNum</th>\n",
       "      <th>agePossession</th>\n",
       "      <th>built_up_area</th>\n",
       "      <th>study room</th>\n",
       "      <th>servant room</th>\n",
       "      <th>store room</th>\n",
       "      <th>pooja room</th>\n",
       "      <th>others</th>\n",
       "      <th>furnishing_type</th>\n",
       "      <th>luxury_score</th>\n",
       "    </tr>\n",
       "  </thead>\n",
       "  <tbody>\n",
       "    <tr>\n",
       "      <th>123</th>\n",
       "      <td>flat</td>\n",
       "      <td>corona optus</td>\n",
       "      <td>sector 37</td>\n",
       "      <td>1.40</td>\n",
       "      <td>7035.0</td>\n",
       "      <td>3.0</td>\n",
       "      <td>3.0</td>\n",
       "      <td>3+</td>\n",
       "      <td>4.0</td>\n",
       "      <td>Relatively New</td>\n",
       "      <td>1890.0</td>\n",
       "      <td>0.0</td>\n",
       "      <td>1.0</td>\n",
       "      <td>0.0</td>\n",
       "      <td>0.0</td>\n",
       "      <td>0.0</td>\n",
       "      <td>0.0</td>\n",
       "      <td>149.0</td>\n",
       "    </tr>\n",
       "    <tr>\n",
       "      <th>1711</th>\n",
       "      <td>flat</td>\n",
       "      <td>nagata group housing society</td>\n",
       "      <td>sector 1</td>\n",
       "      <td>0.85</td>\n",
       "      <td>3696.0</td>\n",
       "      <td>3.0</td>\n",
       "      <td>3.0</td>\n",
       "      <td>3+</td>\n",
       "      <td>4.0</td>\n",
       "      <td>Relatively New</td>\n",
       "      <td>2081.0</td>\n",
       "      <td>0.0</td>\n",
       "      <td>1.0</td>\n",
       "      <td>0.0</td>\n",
       "      <td>0.0</td>\n",
       "      <td>0.0</td>\n",
       "      <td>0.0</td>\n",
       "      <td>5.0</td>\n",
       "    </tr>\n",
       "    <tr>\n",
       "      <th>489</th>\n",
       "      <td>flat</td>\n",
       "      <td>smart world gems</td>\n",
       "      <td>sector 89</td>\n",
       "      <td>1.10</td>\n",
       "      <td>9973.0</td>\n",
       "      <td>3.0</td>\n",
       "      <td>1.0</td>\n",
       "      <td>0</td>\n",
       "      <td>0.0</td>\n",
       "      <td>Undefined</td>\n",
       "      <td>1103.0</td>\n",
       "      <td>0.0</td>\n",
       "      <td>0.0</td>\n",
       "      <td>0.0</td>\n",
       "      <td>0.0</td>\n",
       "      <td>0.0</td>\n",
       "      <td>0.0</td>\n",
       "      <td>45.0</td>\n",
       "    </tr>\n",
       "    <tr>\n",
       "      <th>2439</th>\n",
       "      <td>house</td>\n",
       "      <td>dlf new town heights</td>\n",
       "      <td>sector 86</td>\n",
       "      <td>2.47</td>\n",
       "      <td>7719.0</td>\n",
       "      <td>4.0</td>\n",
       "      <td>4.0</td>\n",
       "      <td>3+</td>\n",
       "      <td>2.0</td>\n",
       "      <td>Moderately Old</td>\n",
       "      <td>2800.0</td>\n",
       "      <td>0.0</td>\n",
       "      <td>1.0</td>\n",
       "      <td>0.0</td>\n",
       "      <td>1.0</td>\n",
       "      <td>0.0</td>\n",
       "      <td>1.0</td>\n",
       "      <td>130.0</td>\n",
       "    </tr>\n",
       "    <tr>\n",
       "      <th>2745</th>\n",
       "      <td>flat</td>\n",
       "      <td>ss the leaf</td>\n",
       "      <td>sector 85</td>\n",
       "      <td>2.00</td>\n",
       "      <td>11869.0</td>\n",
       "      <td>3.0</td>\n",
       "      <td>4.0</td>\n",
       "      <td>3</td>\n",
       "      <td>5.0</td>\n",
       "      <td>Relatively New</td>\n",
       "      <td>2026.0</td>\n",
       "      <td>0.0</td>\n",
       "      <td>1.0</td>\n",
       "      <td>0.0</td>\n",
       "      <td>0.0</td>\n",
       "      <td>0.0</td>\n",
       "      <td>0.0</td>\n",
       "      <td>156.0</td>\n",
       "    </tr>\n",
       "  </tbody>\n",
       "</table>\n",
       "</div>"
      ],
      "text/plain": [
       "     property_type                       society     sector  price  \\\n",
       "123           flat                  corona optus  sector 37   1.40   \n",
       "1711          flat  nagata group housing society   sector 1   0.85   \n",
       "489           flat              smart world gems  sector 89   1.10   \n",
       "2439         house          dlf new town heights  sector 86   2.47   \n",
       "2745          flat                   ss the leaf  sector 85   2.00   \n",
       "\n",
       "      price_per_sqft  bedRoom  bathroom balcony  floorNum   agePossession  \\\n",
       "123           7035.0      3.0       3.0      3+       4.0  Relatively New   \n",
       "1711          3696.0      3.0       3.0      3+       4.0  Relatively New   \n",
       "489           9973.0      3.0       1.0       0       0.0       Undefined   \n",
       "2439          7719.0      4.0       4.0      3+       2.0  Moderately Old   \n",
       "2745         11869.0      3.0       4.0       3       5.0  Relatively New   \n",
       "\n",
       "      built_up_area  study room  servant room  store room  pooja room  others  \\\n",
       "123          1890.0         0.0           1.0         0.0         0.0     0.0   \n",
       "1711         2081.0         0.0           1.0         0.0         0.0     0.0   \n",
       "489          1103.0         0.0           0.0         0.0         0.0     0.0   \n",
       "2439         2800.0         0.0           1.0         0.0         1.0     0.0   \n",
       "2745         2026.0         0.0           1.0         0.0         0.0     0.0   \n",
       "\n",
       "      furnishing_type  luxury_score  \n",
       "123               0.0         149.0  \n",
       "1711              0.0           5.0  \n",
       "489               0.0          45.0  \n",
       "2439              1.0         130.0  \n",
       "2745              0.0         156.0  "
      ]
     },
     "execution_count": 48,
     "metadata": {},
     "output_type": "execute_result"
    }
   ],
   "source": [
    "df.sample(5)"
   ]
  },
  {
   "cell_type": "code",
   "execution_count": 49,
   "id": "ebf89e28",
   "metadata": {
    "ExecuteTime": {
     "end_time": "2024-04-09T13:26:37.269706Z",
     "start_time": "2024-04-09T13:26:37.255206Z"
    }
   },
   "outputs": [
    {
     "data": {
      "text/plain": [
       "property_type      0\n",
       "society            1\n",
       "sector             0\n",
       "price              0\n",
       "price_per_sqft     0\n",
       "bedRoom            0\n",
       "bathroom           0\n",
       "balcony            0\n",
       "floorNum           0\n",
       "agePossession      0\n",
       "built_up_area      0\n",
       "study room         0\n",
       "servant room       0\n",
       "store room         0\n",
       "pooja room         0\n",
       "others             0\n",
       "furnishing_type    0\n",
       "luxury_score       0\n",
       "dtype: int64"
      ]
     },
     "execution_count": 49,
     "metadata": {},
     "output_type": "execute_result"
    }
   ],
   "source": [
    "df.isnull().sum()"
   ]
  },
  {
   "cell_type": "code",
   "execution_count": 50,
   "id": "80865191",
   "metadata": {
    "ExecuteTime": {
     "end_time": "2024-04-09T13:26:41.075631Z",
     "start_time": "2024-04-09T13:26:41.038180Z"
    }
   },
   "outputs": [],
   "source": [
    "df.drop(index=[2536],inplace=True)"
   ]
  },
  {
   "cell_type": "code",
   "execution_count": 51,
   "id": "2b662ce4",
   "metadata": {
    "ExecuteTime": {
     "end_time": "2024-04-09T13:26:42.550582Z",
     "start_time": "2024-04-09T13:26:42.536180Z"
    }
   },
   "outputs": [
    {
     "data": {
      "text/plain": [
       "property_type      0\n",
       "society            0\n",
       "sector             0\n",
       "price              0\n",
       "price_per_sqft     0\n",
       "bedRoom            0\n",
       "bathroom           0\n",
       "balcony            0\n",
       "floorNum           0\n",
       "agePossession      0\n",
       "built_up_area      0\n",
       "study room         0\n",
       "servant room       0\n",
       "store room         0\n",
       "pooja room         0\n",
       "others             0\n",
       "furnishing_type    0\n",
       "luxury_score       0\n",
       "dtype: int64"
      ]
     },
     "execution_count": 51,
     "metadata": {},
     "output_type": "execute_result"
    }
   ],
   "source": [
    "df.isnull().sum()"
   ]
  },
  {
   "cell_type": "markdown",
   "id": "33068f4d",
   "metadata": {},
   "source": [
    "### agePossession"
   ]
  },
  {
   "cell_type": "code",
   "execution_count": 52,
   "id": "f5769f16",
   "metadata": {
    "ExecuteTime": {
     "end_time": "2024-04-09T13:26:45.049930Z",
     "start_time": "2024-04-09T13:26:45.036114Z"
    }
   },
   "outputs": [
    {
     "data": {
      "text/plain": [
       "agePossession\n",
       "Relatively New        1605\n",
       "New Property           557\n",
       "Moderately Old         545\n",
       "Old Property           293\n",
       "Undefined              291\n",
       "Under Construction     263\n",
       "Name: count, dtype: int64"
      ]
     },
     "execution_count": 52,
     "metadata": {},
     "output_type": "execute_result"
    }
   ],
   "source": [
    "df['agePossession'].value_counts()"
   ]
  },
  {
   "cell_type": "code",
   "execution_count": 53,
   "id": "8e56a360",
   "metadata": {
    "ExecuteTime": {
     "end_time": "2024-04-09T13:26:48.575236Z",
     "start_time": "2024-04-09T13:26:48.506321Z"
    }
   },
   "outputs": [
    {
     "data": {
      "text/html": [
       "<div>\n",
       "<style scoped>\n",
       "    .dataframe tbody tr th:only-of-type {\n",
       "        vertical-align: middle;\n",
       "    }\n",
       "\n",
       "    .dataframe tbody tr th {\n",
       "        vertical-align: top;\n",
       "    }\n",
       "\n",
       "    .dataframe thead th {\n",
       "        text-align: right;\n",
       "    }\n",
       "</style>\n",
       "<table border=\"1\" class=\"dataframe\">\n",
       "  <thead>\n",
       "    <tr style=\"text-align: right;\">\n",
       "      <th></th>\n",
       "      <th>property_type</th>\n",
       "      <th>society</th>\n",
       "      <th>sector</th>\n",
       "      <th>price</th>\n",
       "      <th>price_per_sqft</th>\n",
       "      <th>bedRoom</th>\n",
       "      <th>bathroom</th>\n",
       "      <th>balcony</th>\n",
       "      <th>floorNum</th>\n",
       "      <th>agePossession</th>\n",
       "      <th>built_up_area</th>\n",
       "      <th>study room</th>\n",
       "      <th>servant room</th>\n",
       "      <th>store room</th>\n",
       "      <th>pooja room</th>\n",
       "      <th>others</th>\n",
       "      <th>furnishing_type</th>\n",
       "      <th>luxury_score</th>\n",
       "    </tr>\n",
       "  </thead>\n",
       "  <tbody>\n",
       "    <tr>\n",
       "      <th>10</th>\n",
       "      <td>house</td>\n",
       "      <td>independent</td>\n",
       "      <td>sector 109</td>\n",
       "      <td>1.55</td>\n",
       "      <td>6568.0</td>\n",
       "      <td>3.0</td>\n",
       "      <td>2.0</td>\n",
       "      <td>0</td>\n",
       "      <td>1.0</td>\n",
       "      <td>Undefined</td>\n",
       "      <td>2360.0</td>\n",
       "      <td>0.0</td>\n",
       "      <td>0.0</td>\n",
       "      <td>0.0</td>\n",
       "      <td>0.0</td>\n",
       "      <td>0.0</td>\n",
       "      <td>0.0</td>\n",
       "      <td>0.0</td>\n",
       "    </tr>\n",
       "    <tr>\n",
       "      <th>33</th>\n",
       "      <td>house</td>\n",
       "      <td>greenopolis</td>\n",
       "      <td>sector 89</td>\n",
       "      <td>0.70</td>\n",
       "      <td>5397.0</td>\n",
       "      <td>2.0</td>\n",
       "      <td>2.0</td>\n",
       "      <td>2</td>\n",
       "      <td>14.0</td>\n",
       "      <td>Undefined</td>\n",
       "      <td>1297.0</td>\n",
       "      <td>0.0</td>\n",
       "      <td>0.0</td>\n",
       "      <td>0.0</td>\n",
       "      <td>0.0</td>\n",
       "      <td>0.0</td>\n",
       "      <td>0.0</td>\n",
       "      <td>0.0</td>\n",
       "    </tr>\n",
       "    <tr>\n",
       "      <th>48</th>\n",
       "      <td>flat</td>\n",
       "      <td>smart world gems</td>\n",
       "      <td>sector 89</td>\n",
       "      <td>1.71</td>\n",
       "      <td>12000.0</td>\n",
       "      <td>3.0</td>\n",
       "      <td>2.0</td>\n",
       "      <td>0</td>\n",
       "      <td>3.0</td>\n",
       "      <td>Undefined</td>\n",
       "      <td>1423.0</td>\n",
       "      <td>0.0</td>\n",
       "      <td>0.0</td>\n",
       "      <td>0.0</td>\n",
       "      <td>0.0</td>\n",
       "      <td>0.0</td>\n",
       "      <td>0.0</td>\n",
       "      <td>45.0</td>\n",
       "    </tr>\n",
       "    <tr>\n",
       "      <th>70</th>\n",
       "      <td>flat</td>\n",
       "      <td>rof aalayas</td>\n",
       "      <td>sector 102</td>\n",
       "      <td>0.45</td>\n",
       "      <td>6000.0</td>\n",
       "      <td>1.0</td>\n",
       "      <td>1.0</td>\n",
       "      <td>2</td>\n",
       "      <td>6.0</td>\n",
       "      <td>Undefined</td>\n",
       "      <td>750.0</td>\n",
       "      <td>0.0</td>\n",
       "      <td>0.0</td>\n",
       "      <td>0.0</td>\n",
       "      <td>0.0</td>\n",
       "      <td>0.0</td>\n",
       "      <td>0.0</td>\n",
       "      <td>0.0</td>\n",
       "    </tr>\n",
       "    <tr>\n",
       "      <th>74</th>\n",
       "      <td>house</td>\n",
       "      <td>bhim garh kheri</td>\n",
       "      <td>sector 3</td>\n",
       "      <td>1.50</td>\n",
       "      <td>7576.0</td>\n",
       "      <td>7.0</td>\n",
       "      <td>2.0</td>\n",
       "      <td>0</td>\n",
       "      <td>1.0</td>\n",
       "      <td>Undefined</td>\n",
       "      <td>1980.0</td>\n",
       "      <td>0.0</td>\n",
       "      <td>0.0</td>\n",
       "      <td>0.0</td>\n",
       "      <td>0.0</td>\n",
       "      <td>0.0</td>\n",
       "      <td>0.0</td>\n",
       "      <td>0.0</td>\n",
       "    </tr>\n",
       "    <tr>\n",
       "      <th>...</th>\n",
       "      <td>...</td>\n",
       "      <td>...</td>\n",
       "      <td>...</td>\n",
       "      <td>...</td>\n",
       "      <td>...</td>\n",
       "      <td>...</td>\n",
       "      <td>...</td>\n",
       "      <td>...</td>\n",
       "      <td>...</td>\n",
       "      <td>...</td>\n",
       "      <td>...</td>\n",
       "      <td>...</td>\n",
       "      <td>...</td>\n",
       "      <td>...</td>\n",
       "      <td>...</td>\n",
       "      <td>...</td>\n",
       "      <td>...</td>\n",
       "      <td>...</td>\n",
       "    </tr>\n",
       "    <tr>\n",
       "      <th>3497</th>\n",
       "      <td>flat</td>\n",
       "      <td>raheja vedaanta</td>\n",
       "      <td>sector 108</td>\n",
       "      <td>0.70</td>\n",
       "      <td>4522.0</td>\n",
       "      <td>2.0</td>\n",
       "      <td>2.0</td>\n",
       "      <td>3</td>\n",
       "      <td>1.0</td>\n",
       "      <td>Undefined</td>\n",
       "      <td>1548.0</td>\n",
       "      <td>0.0</td>\n",
       "      <td>0.0</td>\n",
       "      <td>0.0</td>\n",
       "      <td>0.0</td>\n",
       "      <td>0.0</td>\n",
       "      <td>0.0</td>\n",
       "      <td>0.0</td>\n",
       "    </tr>\n",
       "    <tr>\n",
       "      <th>3502</th>\n",
       "      <td>flat</td>\n",
       "      <td>signature global city</td>\n",
       "      <td>sector 37d</td>\n",
       "      <td>1.10</td>\n",
       "      <td>9839.0</td>\n",
       "      <td>2.0</td>\n",
       "      <td>2.0</td>\n",
       "      <td>2</td>\n",
       "      <td>4.0</td>\n",
       "      <td>Undefined</td>\n",
       "      <td>1242.0</td>\n",
       "      <td>0.0</td>\n",
       "      <td>0.0</td>\n",
       "      <td>0.0</td>\n",
       "      <td>0.0</td>\n",
       "      <td>0.0</td>\n",
       "      <td>0.0</td>\n",
       "      <td>59.0</td>\n",
       "    </tr>\n",
       "    <tr>\n",
       "      <th>3508</th>\n",
       "      <td>house</td>\n",
       "      <td>independent</td>\n",
       "      <td>sector 21</td>\n",
       "      <td>0.45</td>\n",
       "      <td>8411.0</td>\n",
       "      <td>3.0</td>\n",
       "      <td>2.0</td>\n",
       "      <td>1</td>\n",
       "      <td>1.0</td>\n",
       "      <td>Undefined</td>\n",
       "      <td>594.0</td>\n",
       "      <td>0.0</td>\n",
       "      <td>0.0</td>\n",
       "      <td>0.0</td>\n",
       "      <td>0.0</td>\n",
       "      <td>0.0</td>\n",
       "      <td>0.0</td>\n",
       "      <td>0.0</td>\n",
       "    </tr>\n",
       "    <tr>\n",
       "      <th>3520</th>\n",
       "      <td>flat</td>\n",
       "      <td>sidhartha ncr one</td>\n",
       "      <td>sector 95</td>\n",
       "      <td>0.57</td>\n",
       "      <td>4179.0</td>\n",
       "      <td>2.0</td>\n",
       "      <td>2.0</td>\n",
       "      <td>2</td>\n",
       "      <td>10.0</td>\n",
       "      <td>Undefined</td>\n",
       "      <td>1364.0</td>\n",
       "      <td>0.0</td>\n",
       "      <td>0.0</td>\n",
       "      <td>0.0</td>\n",
       "      <td>0.0</td>\n",
       "      <td>0.0</td>\n",
       "      <td>0.0</td>\n",
       "      <td>0.0</td>\n",
       "    </tr>\n",
       "    <tr>\n",
       "      <th>3549</th>\n",
       "      <td>house</td>\n",
       "      <td>surendra homes dayaindependentd colony</td>\n",
       "      <td>sector 6</td>\n",
       "      <td>0.75</td>\n",
       "      <td>15625.0</td>\n",
       "      <td>4.0</td>\n",
       "      <td>4.0</td>\n",
       "      <td>2</td>\n",
       "      <td>1.0</td>\n",
       "      <td>Undefined</td>\n",
       "      <td>480.0</td>\n",
       "      <td>0.0</td>\n",
       "      <td>0.0</td>\n",
       "      <td>0.0</td>\n",
       "      <td>0.0</td>\n",
       "      <td>0.0</td>\n",
       "      <td>0.0</td>\n",
       "      <td>0.0</td>\n",
       "    </tr>\n",
       "  </tbody>\n",
       "</table>\n",
       "<p>291 rows × 18 columns</p>\n",
       "</div>"
      ],
      "text/plain": [
       "     property_type                                 society      sector  price  \\\n",
       "10           house                             independent  sector 109   1.55   \n",
       "33           house                             greenopolis   sector 89   0.70   \n",
       "48            flat                        smart world gems   sector 89   1.71   \n",
       "70            flat                             rof aalayas  sector 102   0.45   \n",
       "74           house                         bhim garh kheri    sector 3   1.50   \n",
       "...            ...                                     ...         ...    ...   \n",
       "3497          flat                         raheja vedaanta  sector 108   0.70   \n",
       "3502          flat                   signature global city  sector 37d   1.10   \n",
       "3508         house                             independent   sector 21   0.45   \n",
       "3520          flat                       sidhartha ncr one   sector 95   0.57   \n",
       "3549         house  surendra homes dayaindependentd colony    sector 6   0.75   \n",
       "\n",
       "      price_per_sqft  bedRoom  bathroom balcony  floorNum agePossession  \\\n",
       "10            6568.0      3.0       2.0       0       1.0     Undefined   \n",
       "33            5397.0      2.0       2.0       2      14.0     Undefined   \n",
       "48           12000.0      3.0       2.0       0       3.0     Undefined   \n",
       "70            6000.0      1.0       1.0       2       6.0     Undefined   \n",
       "74            7576.0      7.0       2.0       0       1.0     Undefined   \n",
       "...              ...      ...       ...     ...       ...           ...   \n",
       "3497          4522.0      2.0       2.0       3       1.0     Undefined   \n",
       "3502          9839.0      2.0       2.0       2       4.0     Undefined   \n",
       "3508          8411.0      3.0       2.0       1       1.0     Undefined   \n",
       "3520          4179.0      2.0       2.0       2      10.0     Undefined   \n",
       "3549         15625.0      4.0       4.0       2       1.0     Undefined   \n",
       "\n",
       "      built_up_area  study room  servant room  store room  pooja room  others  \\\n",
       "10           2360.0         0.0           0.0         0.0         0.0     0.0   \n",
       "33           1297.0         0.0           0.0         0.0         0.0     0.0   \n",
       "48           1423.0         0.0           0.0         0.0         0.0     0.0   \n",
       "70            750.0         0.0           0.0         0.0         0.0     0.0   \n",
       "74           1980.0         0.0           0.0         0.0         0.0     0.0   \n",
       "...             ...         ...           ...         ...         ...     ...   \n",
       "3497         1548.0         0.0           0.0         0.0         0.0     0.0   \n",
       "3502         1242.0         0.0           0.0         0.0         0.0     0.0   \n",
       "3508          594.0         0.0           0.0         0.0         0.0     0.0   \n",
       "3520         1364.0         0.0           0.0         0.0         0.0     0.0   \n",
       "3549          480.0         0.0           0.0         0.0         0.0     0.0   \n",
       "\n",
       "      furnishing_type  luxury_score  \n",
       "10                0.0           0.0  \n",
       "33                0.0           0.0  \n",
       "48                0.0          45.0  \n",
       "70                0.0           0.0  \n",
       "74                0.0           0.0  \n",
       "...               ...           ...  \n",
       "3497              0.0           0.0  \n",
       "3502              0.0          59.0  \n",
       "3508              0.0           0.0  \n",
       "3520              0.0           0.0  \n",
       "3549              0.0           0.0  \n",
       "\n",
       "[291 rows x 18 columns]"
      ]
     },
     "execution_count": 53,
     "metadata": {},
     "output_type": "execute_result"
    }
   ],
   "source": [
    "df[df['agePossession'] == 'Undefined']"
   ]
  },
  {
   "cell_type": "code",
   "execution_count": 54,
   "id": "d100740d",
   "metadata": {
    "ExecuteTime": {
     "end_time": "2024-04-09T13:26:59.399143Z",
     "start_time": "2024-04-09T13:26:59.387994Z"
    }
   },
   "outputs": [],
   "source": [
    "def mode_based_imputation(row):\n",
    "    if row['agePossession'] == 'Undefined':\n",
    "        mode_value = df[(df['sector'] == row['sector']) & (df['property_type'] == row['property_type'])]['agePossession'].mode()\n",
    "        # If mode_value is empty (no mode found), return NaN, otherwise return the mode\n",
    "        if not mode_value.empty:\n",
    "            return mode_value.iloc[0] \n",
    "        else:\n",
    "            return np.nan\n",
    "    else:\n",
    "        return row['agePossession']"
   ]
  },
  {
   "cell_type": "code",
   "execution_count": null,
   "id": "4a81f9c4",
   "metadata": {},
   "outputs": [],
   "source": []
  },
  {
   "cell_type": "code",
   "execution_count": 55,
   "id": "56bce856",
   "metadata": {
    "ExecuteTime": {
     "end_time": "2024-04-09T13:27:12.589547Z",
     "start_time": "2024-04-09T13:27:11.663862Z"
    }
   },
   "outputs": [],
   "source": [
    "df['agePossession'] = df.apply(mode_based_imputation,axis=1)"
   ]
  },
  {
   "cell_type": "code",
   "execution_count": 56,
   "id": "fe2cb3b6",
   "metadata": {
    "ExecuteTime": {
     "end_time": "2024-04-09T13:27:15.206868Z",
     "start_time": "2024-04-09T13:27:15.194377Z"
    }
   },
   "outputs": [
    {
     "data": {
      "text/plain": [
       "agePossession\n",
       "Relatively New        1715\n",
       "New Property           598\n",
       "Moderately Old         585\n",
       "Old Property           324\n",
       "Under Construction     277\n",
       "Undefined               55\n",
       "Name: count, dtype: int64"
      ]
     },
     "execution_count": 56,
     "metadata": {},
     "output_type": "execute_result"
    }
   ],
   "source": [
    "df['agePossession'].value_counts()"
   ]
  },
  {
   "cell_type": "code",
   "execution_count": 57,
   "id": "5b9845ae",
   "metadata": {
    "ExecuteTime": {
     "end_time": "2024-04-09T13:27:16.990280Z",
     "start_time": "2024-04-09T13:27:16.982290Z"
    }
   },
   "outputs": [],
   "source": [
    "def mode_based_imputation2(row):\n",
    "    if row['agePossession'] == 'Undefined':\n",
    "        mode_value = df[(df['sector'] == row['sector'])]['agePossession'].mode()\n",
    "        # If mode_value is empty (no mode found), return NaN, otherwise return the mode\n",
    "        if not mode_value.empty:\n",
    "            return mode_value.iloc[0] \n",
    "        else:\n",
    "            return np.nan\n",
    "    else:\n",
    "        return row['agePossession']"
   ]
  },
  {
   "cell_type": "code",
   "execution_count": 58,
   "id": "bb325102",
   "metadata": {
    "ExecuteTime": {
     "end_time": "2024-04-09T13:27:18.888428Z",
     "start_time": "2024-04-09T13:27:18.613829Z"
    }
   },
   "outputs": [],
   "source": [
    "df['agePossession'] = df.apply(mode_based_imputation2,axis=1)"
   ]
  },
  {
   "cell_type": "code",
   "execution_count": 59,
   "id": "99d195c7",
   "metadata": {
    "ExecuteTime": {
     "end_time": "2024-04-09T13:27:19.313857Z",
     "start_time": "2024-04-09T13:27:19.298359Z"
    }
   },
   "outputs": [
    {
     "data": {
      "text/plain": [
       "agePossession\n",
       "Relatively New        1730\n",
       "New Property           599\n",
       "Moderately Old         592\n",
       "Old Property           327\n",
       "Under Construction     277\n",
       "Undefined               29\n",
       "Name: count, dtype: int64"
      ]
     },
     "execution_count": 59,
     "metadata": {},
     "output_type": "execute_result"
    }
   ],
   "source": [
    "df['agePossession'].value_counts()"
   ]
  },
  {
   "cell_type": "code",
   "execution_count": 60,
   "id": "7a867a5c",
   "metadata": {
    "ExecuteTime": {
     "end_time": "2024-04-09T13:27:21.198014Z",
     "start_time": "2024-04-09T13:27:21.190230Z"
    }
   },
   "outputs": [],
   "source": [
    "def mode_based_imputation3(row):\n",
    "    if row['agePossession'] == 'Undefined':\n",
    "        mode_value = df[(df['property_type'] == row['property_type'])]['agePossession'].mode()\n",
    "        # If mode_value is empty (no mode found), return NaN, otherwise return the mode\n",
    "        if not mode_value.empty:\n",
    "            return mode_value.iloc[0] \n",
    "        else:\n",
    "            return np.nan\n",
    "    else:\n",
    "        return row['agePossession']"
   ]
  },
  {
   "cell_type": "code",
   "execution_count": 457,
   "id": "ce4e5198",
   "metadata": {},
   "outputs": [],
   "source": [
    "df['agePossession'] = df.apply(mode_based_imputation3,axis=1)"
   ]
  },
  {
   "cell_type": "code",
   "execution_count": 458,
   "id": "033d6b6a",
   "metadata": {},
   "outputs": [
    {
     "data": {
      "text/plain": [
       "Relatively New        1732\n",
       "Moderately Old         619\n",
       "New Property           599\n",
       "Old Property           327\n",
       "Under Construction     277\n",
       "Name: agePossession, dtype: int64"
      ]
     },
     "execution_count": 458,
     "metadata": {},
     "output_type": "execute_result"
    }
   ],
   "source": [
    "df['agePossession'].value_counts()"
   ]
  },
  {
   "cell_type": "code",
   "execution_count": 459,
   "id": "f78faac3",
   "metadata": {},
   "outputs": [
    {
     "data": {
      "text/plain": [
       "property_type      0\n",
       "society            0\n",
       "sector             0\n",
       "price              0\n",
       "price_per_sqft     0\n",
       "bedRoom            0\n",
       "bathroom           0\n",
       "balcony            0\n",
       "floorNum           0\n",
       "agePossession      0\n",
       "built_up_area      0\n",
       "study room         0\n",
       "servant room       0\n",
       "store room         0\n",
       "pooja room         0\n",
       "others             0\n",
       "furnishing_type    0\n",
       "luxury_score       0\n",
       "dtype: int64"
      ]
     },
     "execution_count": 459,
     "metadata": {},
     "output_type": "execute_result"
    }
   ],
   "source": [
    "df.isnull().sum()"
   ]
  },
  {
   "cell_type": "code",
   "execution_count": 463,
   "id": "41779f7d",
   "metadata": {},
   "outputs": [],
   "source": [
    "df.to_csv('gurgaon_properties_missing_value_imputation.csv',index=False)"
   ]
  },
  {
   "cell_type": "code",
   "execution_count": 464,
   "id": "ccfba55d",
   "metadata": {},
   "outputs": [
    {
     "data": {
      "text/plain": [
       "(3554, 18)"
      ]
     },
     "execution_count": 464,
     "metadata": {},
     "output_type": "execute_result"
    }
   ],
   "source": [
    "df.shape"
   ]
  },
  {
   "cell_type": "code",
   "execution_count": null,
   "id": "eef0635a",
   "metadata": {},
   "outputs": [],
   "source": []
  }
 ],
 "metadata": {
  "kernelspec": {
   "display_name": "Python 3 (ipykernel)",
   "language": "python",
   "name": "python3"
  },
  "language_info": {
   "codemirror_mode": {
    "name": "ipython",
    "version": 3
   },
   "file_extension": ".py",
   "mimetype": "text/x-python",
   "name": "python",
   "nbconvert_exporter": "python",
   "pygments_lexer": "ipython3",
   "version": "3.11.5"
  },
  "varInspector": {
   "cols": {
    "lenName": 16,
    "lenType": 16,
    "lenVar": 40
   },
   "kernels_config": {
    "python": {
     "delete_cmd_postfix": "",
     "delete_cmd_prefix": "del ",
     "library": "var_list.py",
     "varRefreshCmd": "print(var_dic_list())"
    },
    "r": {
     "delete_cmd_postfix": ") ",
     "delete_cmd_prefix": "rm(",
     "library": "var_list.r",
     "varRefreshCmd": "cat(var_dic_list()) "
    }
   },
   "types_to_exclude": [
    "module",
    "function",
    "builtin_function_or_method",
    "instance",
    "_Feature"
   ],
   "window_display": false
  }
 },
 "nbformat": 4,
 "nbformat_minor": 5
}
